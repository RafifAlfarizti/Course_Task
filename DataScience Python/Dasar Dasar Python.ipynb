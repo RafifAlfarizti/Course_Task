{
 "cells": [
  {
   "cell_type": "code",
   "execution_count": null,
   "id": "c2745f10",
   "metadata": {},
   "outputs": [],
   "source": [
    "# BAB 3"
   ]
  },
  {
   "cell_type": "code",
   "execution_count": 5,
   "id": "433bc364",
   "metadata": {},
   "outputs": [
    {
     "name": "stdout",
     "output_type": "stream",
     "text": [
      "Dzaky\n"
     ]
    }
   ],
   "source": [
    "def a(): \n",
    "    print(\"Dzaky\")\n",
    "\n",
    "a()"
   ]
  },
  {
   "cell_type": "code",
   "execution_count": 34,
   "id": "87f24139",
   "metadata": {},
   "outputs": [
    {
     "data": {
      "text/plain": [
       "'salah'"
      ]
     },
     "execution_count": 34,
     "metadata": {},
     "output_type": "execute_result"
    }
   ],
   "source": [
    "def upperthree(angka):\n",
    "    if angka>3: return \"benar\"\n",
    "    else: return \"salah\"\n",
    "upperthree(4)\n",
    "upperthree(3)"
   ]
  },
  {
   "cell_type": "code",
   "execution_count": 44,
   "id": "3b7fd462",
   "metadata": {},
   "outputs": [
    {
     "name": "stdout",
     "output_type": "stream",
     "text": [
      "For Loop\n",
      "0\n",
      "1\n",
      "2\n",
      "3\n",
      "4\n",
      "5\n",
      "\n",
      "while loop\n",
      "6\n",
      "5\n",
      "4\n",
      "3\n",
      "2\n",
      "1\n",
      "0\n",
      "-1\n",
      "-2\n",
      "-3\n",
      "-4\n",
      "-5\n"
     ]
    }
   ],
   "source": [
    "print ('For Loop')\n",
    "for i in range(6): print(i)\n",
    "    \n",
    "print ('\\nwhile loop')\n",
    "x=7\n",
    "while x>(-5):\n",
    "    x-=1\n",
    "    print(x)\n"
   ]
  },
  {
   "cell_type": "code",
   "execution_count": null,
   "id": "ad24da7e",
   "metadata": {},
   "outputs": [],
   "source": [
    "# BAB 4"
   ]
  },
  {
   "cell_type": "code",
   "execution_count": 45,
   "id": "2033c886",
   "metadata": {},
   "outputs": [],
   "source": [
    "import numpy as np"
   ]
  },
  {
   "cell_type": "code",
   "execution_count": 46,
   "id": "3f799ca7",
   "metadata": {},
   "outputs": [
    {
     "data": {
      "text/plain": [
       "[2, 3, 4]"
      ]
     },
     "execution_count": 46,
     "metadata": {},
     "output_type": "execute_result"
    }
   ],
   "source": [
    "a_list=[2,3,4] #list biasa\n",
    "a_list"
   ]
  },
  {
   "cell_type": "code",
   "execution_count": 47,
   "id": "423bee6a",
   "metadata": {},
   "outputs": [
    {
     "data": {
      "text/plain": [
       "array([2, 3, 4])"
      ]
     },
     "execution_count": 47,
     "metadata": {},
     "output_type": "execute_result"
    }
   ],
   "source": [
    "np.array(a_list) #list array"
   ]
  },
  {
   "cell_type": "code",
   "execution_count": 48,
   "id": "0190e6f3",
   "metadata": {},
   "outputs": [
    {
     "data": {
      "text/plain": [
       "[[2, 3, 4], [5, 6, 7], [8, 9, 10]]"
      ]
     },
     "execution_count": 48,
     "metadata": {},
     "output_type": "execute_result"
    }
   ],
   "source": [
    "a_matrix=[[2,3,4],[5,6,7],[8,9,10]]\n",
    "a_matrix"
   ]
  },
  {
   "cell_type": "code",
   "execution_count": 49,
   "id": "2642c0cd",
   "metadata": {
    "scrolled": true
   },
   "outputs": [
    {
     "data": {
      "text/plain": [
       "array([[ 2,  3,  4],\n",
       "       [ 5,  6,  7],\n",
       "       [ 8,  9, 10]])"
      ]
     },
     "execution_count": 49,
     "metadata": {},
     "output_type": "execute_result"
    }
   ],
   "source": [
    "np.array(a_matrix) #mengubah matrix menjadi array"
   ]
  },
  {
   "cell_type": "code",
   "execution_count": 50,
   "id": "049a73fa",
   "metadata": {},
   "outputs": [
    {
     "data": {
      "text/plain": [
       "array([0., 0., 0., 0.])"
      ]
     },
     "execution_count": 50,
     "metadata": {},
     "output_type": "execute_result"
    }
   ],
   "source": [
    "np.zeros(4) #array nilai 0"
   ]
  },
  {
   "cell_type": "code",
   "execution_count": 60,
   "id": "1609b30e",
   "metadata": {},
   "outputs": [
    {
     "data": {
      "text/plain": [
       "array([[0., 0., 0., 0.],\n",
       "       [0., 0., 0., 0.],\n",
       "       [0., 0., 0., 0.],\n",
       "       [0., 0., 0., 0.]])"
      ]
     },
     "execution_count": 60,
     "metadata": {},
     "output_type": "execute_result"
    }
   ],
   "source": [
    "np.zeros((4,4)) #array nilai 0 dengan 4 baris x 4 kolom"
   ]
  },
  {
   "cell_type": "code",
   "execution_count": 75,
   "id": "01d1110e",
   "metadata": {},
   "outputs": [
    {
     "data": {
      "text/plain": [
       "array([ 0,  1,  2,  3,  4,  5,  6,  7,  8,  9, 10, 11, 12, 13, 14, 15, 16,\n",
       "       17, 18, 19, 20, 21, 22, 23, 24])"
      ]
     },
     "execution_count": 75,
     "metadata": {},
     "output_type": "execute_result"
    }
   ],
   "source": [
    "np.arange(25) #array bilangan cacah"
   ]
  },
  {
   "cell_type": "code",
   "execution_count": 57,
   "id": "baf00527",
   "metadata": {},
   "outputs": [
    {
     "data": {
      "text/plain": [
       "array([ 0,  1,  2,  3,  4,  5,  6,  7,  8,  9, 10])"
      ]
     },
     "execution_count": 57,
     "metadata": {},
     "output_type": "execute_result"
    }
   ],
   "source": [
    "np.arange(0,11) #array untuk bilangan antara 1 dan 11"
   ]
  },
  {
   "cell_type": "code",
   "execution_count": 58,
   "id": "e79f7aff",
   "metadata": {},
   "outputs": [
    {
     "data": {
      "text/plain": [
       "array([0, 3, 6, 9])"
      ]
     },
     "execution_count": 58,
     "metadata": {},
     "output_type": "execute_result"
    }
   ],
   "source": [
    "np.arange(0,11,3) #array untuk bilangan antara 1 dan 11 dengan kelipatan 3"
   ]
  },
  {
   "cell_type": "code",
   "execution_count": 61,
   "id": "7f49751b",
   "metadata": {},
   "outputs": [
    {
     "data": {
      "text/plain": [
       "array([1., 1., 1., 1.])"
      ]
     },
     "execution_count": 61,
     "metadata": {},
     "output_type": "execute_result"
    }
   ],
   "source": [
    "np.ones(4) #array nilai 1 dengan 4 baris"
   ]
  },
  {
   "cell_type": "code",
   "execution_count": 62,
   "id": "36ad044e",
   "metadata": {},
   "outputs": [
    {
     "data": {
      "text/plain": [
       "array([[1., 1., 1., 1.],\n",
       "       [1., 1., 1., 1.],\n",
       "       [1., 1., 1., 1.],\n",
       "       [1., 1., 1., 1.]])"
      ]
     },
     "execution_count": 62,
     "metadata": {},
     "output_type": "execute_result"
    }
   ],
   "source": [
    "np.ones((4,4)) #array nilai 1 dengan 4 baris x 4 kolom"
   ]
  },
  {
   "cell_type": "code",
   "execution_count": 63,
   "id": "cf9f1cce",
   "metadata": {},
   "outputs": [
    {
     "data": {
      "text/plain": [
       "array([[[1., 1., 1., 1.],\n",
       "        [1., 1., 1., 1.],\n",
       "        [1., 1., 1., 1.],\n",
       "        [1., 1., 1., 1.]],\n",
       "\n",
       "       [[1., 1., 1., 1.],\n",
       "        [1., 1., 1., 1.],\n",
       "        [1., 1., 1., 1.],\n",
       "        [1., 1., 1., 1.]],\n",
       "\n",
       "       [[1., 1., 1., 1.],\n",
       "        [1., 1., 1., 1.],\n",
       "        [1., 1., 1., 1.],\n",
       "        [1., 1., 1., 1.]],\n",
       "\n",
       "       [[1., 1., 1., 1.],\n",
       "        [1., 1., 1., 1.],\n",
       "        [1., 1., 1., 1.],\n",
       "        [1., 1., 1., 1.]]])"
      ]
     },
     "execution_count": 63,
     "metadata": {},
     "output_type": "execute_result"
    }
   ],
   "source": [
    "np.ones((4,4,4)) "
   ]
  },
  {
   "cell_type": "code",
   "execution_count": 65,
   "id": "3ccd3195",
   "metadata": {},
   "outputs": [
    {
     "data": {
      "text/plain": [
       "array([0.    , 0.3125, 0.625 , 0.9375, 1.25  , 1.5625, 1.875 , 2.1875,\n",
       "       2.5   , 2.8125, 3.125 , 3.4375, 3.75  , 4.0625, 4.375 , 4.6875,\n",
       "       5.    ])"
      ]
     },
     "execution_count": 65,
     "metadata": {},
     "output_type": "execute_result"
    }
   ],
   "source": [
    "np.linspace(0,5,17) #array angka dari 0 sampai 5 berjumlah 17 angka"
   ]
  },
  {
   "cell_type": "code",
   "execution_count": 66,
   "id": "1bbefbb2",
   "metadata": {},
   "outputs": [
    {
     "data": {
      "text/plain": [
       "array([[1., 0., 0., 0., 0.],\n",
       "       [0., 1., 0., 0., 0.],\n",
       "       [0., 0., 1., 0., 0.],\n",
       "       [0., 0., 0., 1., 0.],\n",
       "       [0., 0., 0., 0., 1.]])"
      ]
     },
     "execution_count": 66,
     "metadata": {},
     "output_type": "execute_result"
    }
   ],
   "source": [
    "np.eye(5) #matriks identitas dengan 5 baris dan kolom"
   ]
  },
  {
   "cell_type": "code",
   "execution_count": 68,
   "id": "38493f8a",
   "metadata": {},
   "outputs": [
    {
     "data": {
      "text/plain": [
       "array([0.6257128 , 0.77591401, 0.05339825])"
      ]
     },
     "execution_count": 68,
     "metadata": {},
     "output_type": "execute_result"
    }
   ],
   "source": [
    "np.random.rand(3) #membuat nilai random 0-1"
   ]
  },
  {
   "cell_type": "code",
   "execution_count": 69,
   "id": "97bc6ce2",
   "metadata": {},
   "outputs": [
    {
     "data": {
      "text/plain": [
       "array([[0.93717094, 0.00736553, 0.99201037, 0.37667578],\n",
       "       [0.86306654, 0.08807427, 0.13590247, 0.05979773],\n",
       "       [0.17116459, 0.54554416, 0.87925534, 0.79846934],\n",
       "       [0.7075726 , 0.85316044, 0.01773776, 0.28409504]])"
      ]
     },
     "execution_count": 69,
     "metadata": {},
     "output_type": "execute_result"
    }
   ],
   "source": [
    "np.random.rand(4,4) #membuat nilai random 4 baris dan kolom"
   ]
  },
  {
   "cell_type": "code",
   "execution_count": 71,
   "id": "1706cad1",
   "metadata": {},
   "outputs": [
    {
     "data": {
      "text/plain": [
       "array([0.82311034, 0.02611798, 0.21077064])"
      ]
     },
     "execution_count": 71,
     "metadata": {},
     "output_type": "execute_result"
    }
   ],
   "source": [
    "np.random.seed(52)\n",
    "np.random.rand(3)"
   ]
  },
  {
   "cell_type": "code",
   "execution_count": 73,
   "id": "17f0bd4f",
   "metadata": {},
   "outputs": [
    {
     "data": {
      "text/plain": [
       "array([0.82311034, 0.02611798, 0.21077064])"
      ]
     },
     "execution_count": 73,
     "metadata": {},
     "output_type": "execute_result"
    }
   ],
   "source": [
    "np.random.seed(52) #walaupun dirandom lagi nilainya tetap sama\n",
    "np.random.rand(3)"
   ]
  },
  {
   "cell_type": "code",
   "execution_count": 81,
   "id": "3ebf452c",
   "metadata": {},
   "outputs": [
    {
     "data": {
      "text/plain": [
       "array([3, 4, 2, 0, 3, 1, 2, 2, 1, 2, 0, 2, 4, 0, 1, 1, 1, 1, 2, 1, 1, 2,\n",
       "       1, 3, 0])"
      ]
     },
     "execution_count": 81,
     "metadata": {},
     "output_type": "execute_result"
    }
   ],
   "source": [
    "np.random.randint(0,5,25) #random 25 angka antara 0 dan 5"
   ]
  },
  {
   "cell_type": "code",
   "execution_count": null,
   "id": "b16bbcad",
   "metadata": {},
   "outputs": [],
   "source": [
    "#Membuat variabel arr"
   ]
  },
  {
   "cell_type": "code",
   "execution_count": 97,
   "id": "558c865f",
   "metadata": {},
   "outputs": [
    {
     "data": {
      "text/plain": [
       "array([[ 0,  1,  2,  3,  4],\n",
       "       [ 5,  6,  7,  8,  9],\n",
       "       [10, 11, 12, 13, 14],\n",
       "       [15, 16, 17, 18, 19],\n",
       "       [20, 21, 22, 23, 24]])"
      ]
     },
     "execution_count": 97,
     "metadata": {},
     "output_type": "execute_result"
    }
   ],
   "source": [
    "arr=np.arange(25)\n",
    "ranarr=np.random.randint(0,100,25)\n",
    "arr.reshape(5,5) #reshape berguna untuk mengubah 1 dimensi menjadi 2 dimensi"
   ]
  },
  {
   "cell_type": "code",
   "execution_count": 85,
   "id": "58c4ba0f",
   "metadata": {},
   "outputs": [
    {
     "data": {
      "text/plain": [
       "array([ 0,  1,  2,  3,  4,  5,  6,  7,  8,  9, 10, 11, 12, 13, 14, 15, 16,\n",
       "       17, 18, 19, 20, 21, 22, 23, 24])"
      ]
     },
     "execution_count": 85,
     "metadata": {},
     "output_type": "execute_result"
    }
   ],
   "source": [
    "arr"
   ]
  },
  {
   "cell_type": "code",
   "execution_count": 86,
   "id": "81ee9e1c",
   "metadata": {},
   "outputs": [
    {
     "data": {
      "text/plain": [
       "(25,)"
      ]
     },
     "execution_count": 86,
     "metadata": {},
     "output_type": "execute_result"
    }
   ],
   "source": [
    "arr.shape"
   ]
  },
  {
   "cell_type": "code",
   "execution_count": 87,
   "id": "e214f616",
   "metadata": {},
   "outputs": [
    {
     "data": {
      "text/plain": [
       "(1, 25)"
      ]
     },
     "execution_count": 87,
     "metadata": {},
     "output_type": "execute_result"
    }
   ],
   "source": [
    "arr.reshape(1,25).shape"
   ]
  },
  {
   "cell_type": "code",
   "execution_count": 91,
   "id": "9997d189",
   "metadata": {},
   "outputs": [
    {
     "data": {
      "text/plain": [
       "(25, 1)"
      ]
     },
     "execution_count": 91,
     "metadata": {},
     "output_type": "execute_result"
    }
   ],
   "source": [
    "arr.reshape(25,1).shape"
   ]
  },
  {
   "cell_type": "code",
   "execution_count": 98,
   "id": "a6230b63",
   "metadata": {},
   "outputs": [
    {
     "data": {
      "text/plain": [
       "array([36, 11, 78, 96, 63, 99, 97, 72, 30, 29, 22, 20, 85,  1, 80, 50, 16,\n",
       "       18, 31, 12, 66, 35, 30,  4, 93])"
      ]
     },
     "execution_count": 98,
     "metadata": {},
     "output_type": "execute_result"
    }
   ],
   "source": [
    "ranarr"
   ]
  },
  {
   "cell_type": "code",
   "execution_count": 99,
   "id": "48382288",
   "metadata": {},
   "outputs": [
    {
     "data": {
      "text/plain": [
       "1"
      ]
     },
     "execution_count": 99,
     "metadata": {},
     "output_type": "execute_result"
    }
   ],
   "source": [
    "ranarr.min() #mencari nilai minimum"
   ]
  },
  {
   "cell_type": "code",
   "execution_count": 100,
   "id": "f13d6c1f",
   "metadata": {},
   "outputs": [
    {
     "data": {
      "text/plain": [
       "1174"
      ]
     },
     "execution_count": 100,
     "metadata": {},
     "output_type": "execute_result"
    }
   ],
   "source": [
    "ranarr.sum() #mencari jumlah total"
   ]
  },
  {
   "cell_type": "code",
   "execution_count": 103,
   "id": "4069f778",
   "metadata": {},
   "outputs": [
    {
     "data": {
      "text/plain": [
       "5"
      ]
     },
     "execution_count": 103,
     "metadata": {},
     "output_type": "execute_result"
    }
   ],
   "source": [
    "ranarr.argmax() #mencari indeks nilai maksimum berada"
   ]
  },
  {
   "cell_type": "code",
   "execution_count": 104,
   "id": "a32de298",
   "metadata": {},
   "outputs": [
    {
     "data": {
      "text/plain": [
       "46.96"
      ]
     },
     "execution_count": 104,
     "metadata": {},
     "output_type": "execute_result"
    }
   ],
   "source": [
    "ranarr.mean() #mencari rata rata"
   ]
  },
  {
   "cell_type": "code",
   "execution_count": 105,
   "id": "f2bd950c",
   "metadata": {},
   "outputs": [
    {
     "data": {
      "text/plain": [
       "dtype('int32')"
      ]
     },
     "execution_count": 105,
     "metadata": {},
     "output_type": "execute_result"
    }
   ],
   "source": [
    "arr.dtype #menentukan tipe data "
   ]
  },
  {
   "cell_type": "code",
   "execution_count": 113,
   "id": "e67e5e44",
   "metadata": {},
   "outputs": [
    {
     "data": {
      "text/plain": [
       "dtype('float64')"
      ]
     },
     "execution_count": 113,
     "metadata": {},
     "output_type": "execute_result"
    }
   ],
   "source": [
    "arr2=np.array((3.2,4.7,5.6)) #menentukan tipe data \n",
    "arr2.dtype"
   ]
  },
  {
   "cell_type": "code",
   "execution_count": 116,
   "id": "94e5a489",
   "metadata": {},
   "outputs": [
    {
     "data": {
      "text/plain": [
       "array([  0,   1,   4,   9,  16,  25,  36,  49,  64,  81, 100, 121, 144,\n",
       "       169, 196, 225, 256, 289, 324, 361, 400, 441, 484, 529, 576])"
      ]
     },
     "execution_count": 116,
     "metadata": {},
     "output_type": "execute_result"
    }
   ],
   "source": [
    "#operasi numpy\n",
    "arr*arr #perkalian array"
   ]
  },
  {
   "cell_type": "code",
   "execution_count": 117,
   "id": "6d4367b7",
   "metadata": {},
   "outputs": [
    {
     "name": "stderr",
     "output_type": "stream",
     "text": [
      "C:\\Users\\alfar\\AppData\\Local\\Temp\\ipykernel_13652\\1862401812.py:1: RuntimeWarning: invalid value encountered in divide\n",
      "  arr/arr\n"
     ]
    },
    {
     "data": {
      "text/plain": [
       "array([nan,  1.,  1.,  1.,  1.,  1.,  1.,  1.,  1.,  1.,  1.,  1.,  1.,\n",
       "        1.,  1.,  1.,  1.,  1.,  1.,  1.,  1.,  1.,  1.,  1.,  1.])"
      ]
     },
     "execution_count": 117,
     "metadata": {},
     "output_type": "execute_result"
    }
   ],
   "source": [
    "arr/arr"
   ]
  },
  {
   "cell_type": "code",
   "execution_count": null,
   "id": "df48abad",
   "metadata": {},
   "outputs": [],
   "source": [
    "# operasi array universal"
   ]
  },
  {
   "cell_type": "code",
   "execution_count": 118,
   "id": "cde0fc50",
   "metadata": {},
   "outputs": [
    {
     "data": {
      "text/plain": [
       "array([ 0.        ,  0.84147098,  0.90929743,  0.14112001, -0.7568025 ,\n",
       "       -0.95892427, -0.2794155 ,  0.6569866 ,  0.98935825,  0.41211849,\n",
       "       -0.54402111, -0.99999021, -0.53657292,  0.42016704,  0.99060736,\n",
       "        0.65028784, -0.28790332, -0.96139749, -0.75098725,  0.14987721,\n",
       "        0.91294525,  0.83665564, -0.00885131, -0.8462204 , -0.90557836])"
      ]
     },
     "execution_count": 118,
     "metadata": {},
     "output_type": "execute_result"
    }
   ],
   "source": [
    "np.sin(arr)"
   ]
  },
  {
   "cell_type": "code",
   "execution_count": 119,
   "id": "e1d315d9",
   "metadata": {},
   "outputs": [
    {
     "data": {
      "text/plain": [
       "array([ 0.00000000e+00,  1.55740772e+00, -2.18503986e+00, -1.42546543e-01,\n",
       "        1.15782128e+00, -3.38051501e+00, -2.91006191e-01,  8.71447983e-01,\n",
       "       -6.79971146e+00, -4.52315659e-01,  6.48360827e-01, -2.25950846e+02,\n",
       "       -6.35859929e-01,  4.63021133e-01,  7.24460662e+00, -8.55993401e-01,\n",
       "        3.00632242e-01,  3.49391565e+00, -1.13731371e+00,  1.51589471e-01,\n",
       "        2.23716094e+00, -1.52749853e+00,  8.85165604e-03,  1.58815308e+00,\n",
       "       -2.13489670e+00])"
      ]
     },
     "execution_count": 119,
     "metadata": {},
     "output_type": "execute_result"
    }
   ],
   "source": [
    "np.tan(arr)"
   ]
  },
  {
   "cell_type": "code",
   "execution_count": 121,
   "id": "a4a07661",
   "metadata": {},
   "outputs": [
    {
     "name": "stderr",
     "output_type": "stream",
     "text": [
      "C:\\Users\\alfar\\AppData\\Local\\Temp\\ipykernel_13652\\3120950136.py:1: RuntimeWarning: divide by zero encountered in log\n",
      "  np.log(arr)\n"
     ]
    },
    {
     "data": {
      "text/plain": [
       "array([      -inf, 0.        , 0.69314718, 1.09861229, 1.38629436,\n",
       "       1.60943791, 1.79175947, 1.94591015, 2.07944154, 2.19722458,\n",
       "       2.30258509, 2.39789527, 2.48490665, 2.56494936, 2.63905733,\n",
       "       2.7080502 , 2.77258872, 2.83321334, 2.89037176, 2.94443898,\n",
       "       2.99573227, 3.04452244, 3.09104245, 3.13549422, 3.17805383])"
      ]
     },
     "execution_count": 121,
     "metadata": {},
     "output_type": "execute_result"
    }
   ],
   "source": [
    "np.log(arr)"
   ]
  },
  {
   "cell_type": "code",
   "execution_count": null,
   "id": "1c86239f",
   "metadata": {},
   "outputs": [],
   "source": [
    "#penjumlahan axis"
   ]
  },
  {
   "cell_type": "code",
   "execution_count": 123,
   "id": "fcb04cd0",
   "metadata": {},
   "outputs": [
    {
     "data": {
      "text/plain": [
       "array([50, 55, 60, 65, 70])"
      ]
     },
     "execution_count": 123,
     "metadata": {},
     "output_type": "execute_result"
    }
   ],
   "source": [
    "arrs=arr.reshape(5,5)\n",
    "arrs.sum(axis=0) #array hasil penjumlahan vertikal"
   ]
  },
  {
   "cell_type": "code",
   "execution_count": 124,
   "id": "95647bc8",
   "metadata": {},
   "outputs": [
    {
     "data": {
      "text/plain": [
       "array([ 10,  35,  60,  85, 110])"
      ]
     },
     "execution_count": 124,
     "metadata": {},
     "output_type": "execute_result"
    }
   ],
   "source": [
    "arrs.sum(axis=1) #array hasil penjumlahan horizontal"
   ]
  },
  {
   "cell_type": "code",
   "execution_count": 125,
   "id": "316913a4",
   "metadata": {},
   "outputs": [
    {
     "data": {
      "text/plain": [
       "array([[ 0,  1,  2,  3,  4],\n",
       "       [ 5,  6,  7,  8,  9],\n",
       "       [10, 11, 12, 13, 14],\n",
       "       [15, 16, 17, 18, 19],\n",
       "       [20, 21, 22, 23, 24]])"
      ]
     },
     "execution_count": 125,
     "metadata": {},
     "output_type": "execute_result"
    }
   ],
   "source": [
    "arrs"
   ]
  },
  {
   "cell_type": "code",
   "execution_count": 126,
   "id": "3768074f",
   "metadata": {},
   "outputs": [],
   "source": [
    "#BAB 6 PANDAS"
   ]
  },
  {
   "cell_type": "code",
   "execution_count": 127,
   "id": "3b51a7cb",
   "metadata": {},
   "outputs": [],
   "source": [
    "import pandas as pd"
   ]
  },
  {
   "cell_type": "code",
   "execution_count": 128,
   "id": "89575e1a",
   "metadata": {},
   "outputs": [],
   "source": [
    "label=['o','p','q','r','s']\n",
    "vec=np.array((3,4,5,6,7))\n",
    "list=[10,20,30,40,50]"
   ]
  },
  {
   "cell_type": "code",
   "execution_count": 130,
   "id": "1d0bf12d",
   "metadata": {},
   "outputs": [
    {
     "data": {
      "text/plain": [
       "0    10\n",
       "1    20\n",
       "2    30\n",
       "3    40\n",
       "4    50\n",
       "dtype: int64"
      ]
     },
     "execution_count": 130,
     "metadata": {},
     "output_type": "execute_result"
    }
   ],
   "source": [
    "pd.Series(data=list)"
   ]
  },
  {
   "cell_type": "code",
   "execution_count": 131,
   "id": "ff96e4d4",
   "metadata": {},
   "outputs": [
    {
     "data": {
      "text/plain": [
       "o    10\n",
       "p    20\n",
       "q    30\n",
       "r    40\n",
       "s    50\n",
       "dtype: int64"
      ]
     },
     "execution_count": 131,
     "metadata": {},
     "output_type": "execute_result"
    }
   ],
   "source": [
    "pd.Series(data=list,index=label) #penomoran/indeks menggunakan kolom tertentu"
   ]
  },
  {
   "cell_type": "code",
   "execution_count": 156,
   "id": "5b3fef6a",
   "metadata": {},
   "outputs": [
    {
     "data": {
      "text/plain": [
       "Argentina         10\n",
       "Kanada            20\n",
       "AmerikaSerikat    30\n",
       "Meksiko           40\n",
       "Aljazair          50\n",
       "dtype: int64"
      ]
     },
     "execution_count": 156,
     "metadata": {},
     "output_type": "execute_result"
    }
   ],
   "source": [
    "pd.Series(data=list,index=['Argentina','Kanada','AmerikaSerikat','Meksiko','Aljazair'])\n",
    "#penomoran dengan variabel lain"
   ]
  },
  {
   "cell_type": "code",
   "execution_count": 135,
   "id": "5d777c6f",
   "metadata": {},
   "outputs": [],
   "source": [
    "Utang=pd.Series(data=list,index=['Argentina','Kanada','AmerikaSerikat','Meksiko','Aljazair'])\n",
    "#penomoran dengan variabel lain"
   ]
  },
  {
   "cell_type": "code",
   "execution_count": 137,
   "id": "ff9e7844",
   "metadata": {},
   "outputs": [
    {
     "data": {
      "text/plain": [
       "10"
      ]
     },
     "execution_count": 137,
     "metadata": {},
     "output_type": "execute_result"
    }
   ],
   "source": [
    "Utang['Argentina']"
   ]
  },
  {
   "cell_type": "code",
   "execution_count": 161,
   "id": "f83d3922",
   "metadata": {},
   "outputs": [],
   "source": [
    "np.random.seed(42)\n",
    "data1=np.random.randint(100,200,(5,5))\n",
    "index=['A','B','C','D','E']\n",
    "column=['O','P','Q','R','S']"
   ]
  },
  {
   "cell_type": "code",
   "execution_count": 162,
   "id": "159e0098",
   "metadata": {},
   "outputs": [
    {
     "data": {
      "text/plain": [
       "array([[151, 192, 114, 171, 160],\n",
       "       [120, 182, 186, 174, 174],\n",
       "       [187, 199, 123, 102, 121],\n",
       "       [152, 101, 187, 129, 137],\n",
       "       [101, 163, 159, 120, 132]])"
      ]
     },
     "execution_count": 162,
     "metadata": {},
     "output_type": "execute_result"
    }
   ],
   "source": [
    "data1"
   ]
  },
  {
   "cell_type": "code",
   "execution_count": 234,
   "id": "dc6fba00",
   "metadata": {},
   "outputs": [
    {
     "data": {
      "text/html": [
       "<div>\n",
       "<style scoped>\n",
       "    .dataframe tbody tr th:only-of-type {\n",
       "        vertical-align: middle;\n",
       "    }\n",
       "\n",
       "    .dataframe tbody tr th {\n",
       "        vertical-align: top;\n",
       "    }\n",
       "\n",
       "    .dataframe thead th {\n",
       "        text-align: right;\n",
       "    }\n",
       "</style>\n",
       "<table border=\"1\" class=\"dataframe\">\n",
       "  <thead>\n",
       "    <tr style=\"text-align: right;\">\n",
       "      <th></th>\n",
       "      <th>O</th>\n",
       "      <th>P</th>\n",
       "      <th>Q</th>\n",
       "      <th>R</th>\n",
       "      <th>S</th>\n",
       "    </tr>\n",
       "  </thead>\n",
       "  <tbody>\n",
       "    <tr>\n",
       "      <th>A</th>\n",
       "      <td>151</td>\n",
       "      <td>192</td>\n",
       "      <td>114</td>\n",
       "      <td>171</td>\n",
       "      <td>160</td>\n",
       "    </tr>\n",
       "    <tr>\n",
       "      <th>B</th>\n",
       "      <td>120</td>\n",
       "      <td>182</td>\n",
       "      <td>186</td>\n",
       "      <td>174</td>\n",
       "      <td>174</td>\n",
       "    </tr>\n",
       "    <tr>\n",
       "      <th>C</th>\n",
       "      <td>187</td>\n",
       "      <td>199</td>\n",
       "      <td>123</td>\n",
       "      <td>102</td>\n",
       "      <td>121</td>\n",
       "    </tr>\n",
       "    <tr>\n",
       "      <th>D</th>\n",
       "      <td>152</td>\n",
       "      <td>101</td>\n",
       "      <td>187</td>\n",
       "      <td>129</td>\n",
       "      <td>137</td>\n",
       "    </tr>\n",
       "    <tr>\n",
       "      <th>E</th>\n",
       "      <td>101</td>\n",
       "      <td>163</td>\n",
       "      <td>159</td>\n",
       "      <td>120</td>\n",
       "      <td>132</td>\n",
       "    </tr>\n",
       "  </tbody>\n",
       "</table>\n",
       "</div>"
      ],
      "text/plain": [
       "     O    P    Q    R    S\n",
       "A  151  192  114  171  160\n",
       "B  120  182  186  174  174\n",
       "C  187  199  123  102  121\n",
       "D  152  101  187  129  137\n",
       "E  101  163  159  120  132"
      ]
     },
     "execution_count": 234,
     "metadata": {},
     "output_type": "execute_result"
    }
   ],
   "source": [
    "df1=pd.DataFrame(data1,index,column)\n",
    "df1"
   ]
  },
  {
   "cell_type": "code",
   "execution_count": 235,
   "id": "c414395e",
   "metadata": {},
   "outputs": [
    {
     "data": {
      "text/plain": [
       "A    160\n",
       "B    174\n",
       "C    121\n",
       "D    137\n",
       "E    132\n",
       "Name: S, dtype: int32"
      ]
     },
     "execution_count": 235,
     "metadata": {},
     "output_type": "execute_result"
    }
   ],
   "source": [
    "#operasi pada kolom\n",
    "df1['S'] "
   ]
  },
  {
   "cell_type": "code",
   "execution_count": 236,
   "id": "f8d2a7ef",
   "metadata": {},
   "outputs": [],
   "source": [
    "df1['new']=df1['P']+df1['R']"
   ]
  },
  {
   "cell_type": "code",
   "execution_count": 237,
   "id": "5dea72fb",
   "metadata": {},
   "outputs": [
    {
     "data": {
      "text/html": [
       "<div>\n",
       "<style scoped>\n",
       "    .dataframe tbody tr th:only-of-type {\n",
       "        vertical-align: middle;\n",
       "    }\n",
       "\n",
       "    .dataframe tbody tr th {\n",
       "        vertical-align: top;\n",
       "    }\n",
       "\n",
       "    .dataframe thead th {\n",
       "        text-align: right;\n",
       "    }\n",
       "</style>\n",
       "<table border=\"1\" class=\"dataframe\">\n",
       "  <thead>\n",
       "    <tr style=\"text-align: right;\">\n",
       "      <th></th>\n",
       "      <th>O</th>\n",
       "      <th>P</th>\n",
       "      <th>Q</th>\n",
       "      <th>R</th>\n",
       "      <th>S</th>\n",
       "      <th>new</th>\n",
       "    </tr>\n",
       "  </thead>\n",
       "  <tbody>\n",
       "    <tr>\n",
       "      <th>A</th>\n",
       "      <td>151</td>\n",
       "      <td>192</td>\n",
       "      <td>114</td>\n",
       "      <td>171</td>\n",
       "      <td>160</td>\n",
       "      <td>363</td>\n",
       "    </tr>\n",
       "    <tr>\n",
       "      <th>B</th>\n",
       "      <td>120</td>\n",
       "      <td>182</td>\n",
       "      <td>186</td>\n",
       "      <td>174</td>\n",
       "      <td>174</td>\n",
       "      <td>356</td>\n",
       "    </tr>\n",
       "    <tr>\n",
       "      <th>C</th>\n",
       "      <td>187</td>\n",
       "      <td>199</td>\n",
       "      <td>123</td>\n",
       "      <td>102</td>\n",
       "      <td>121</td>\n",
       "      <td>301</td>\n",
       "    </tr>\n",
       "    <tr>\n",
       "      <th>D</th>\n",
       "      <td>152</td>\n",
       "      <td>101</td>\n",
       "      <td>187</td>\n",
       "      <td>129</td>\n",
       "      <td>137</td>\n",
       "      <td>230</td>\n",
       "    </tr>\n",
       "    <tr>\n",
       "      <th>E</th>\n",
       "      <td>101</td>\n",
       "      <td>163</td>\n",
       "      <td>159</td>\n",
       "      <td>120</td>\n",
       "      <td>132</td>\n",
       "      <td>283</td>\n",
       "    </tr>\n",
       "  </tbody>\n",
       "</table>\n",
       "</div>"
      ],
      "text/plain": [
       "     O    P    Q    R    S  new\n",
       "A  151  192  114  171  160  363\n",
       "B  120  182  186  174  174  356\n",
       "C  187  199  123  102  121  301\n",
       "D  152  101  187  129  137  230\n",
       "E  101  163  159  120  132  283"
      ]
     },
     "execution_count": 237,
     "metadata": {},
     "output_type": "execute_result"
    }
   ],
   "source": [
    "df1"
   ]
  },
  {
   "cell_type": "code",
   "execution_count": 238,
   "id": "dff5edf8",
   "metadata": {},
   "outputs": [
    {
     "data": {
      "text/html": [
       "<div>\n",
       "<style scoped>\n",
       "    .dataframe tbody tr th:only-of-type {\n",
       "        vertical-align: middle;\n",
       "    }\n",
       "\n",
       "    .dataframe tbody tr th {\n",
       "        vertical-align: top;\n",
       "    }\n",
       "\n",
       "    .dataframe thead th {\n",
       "        text-align: right;\n",
       "    }\n",
       "</style>\n",
       "<table border=\"1\" class=\"dataframe\">\n",
       "  <thead>\n",
       "    <tr style=\"text-align: right;\">\n",
       "      <th></th>\n",
       "      <th>O</th>\n",
       "      <th>P</th>\n",
       "      <th>Q</th>\n",
       "      <th>R</th>\n",
       "      <th>S</th>\n",
       "    </tr>\n",
       "  </thead>\n",
       "  <tbody>\n",
       "    <tr>\n",
       "      <th>A</th>\n",
       "      <td>151</td>\n",
       "      <td>192</td>\n",
       "      <td>114</td>\n",
       "      <td>171</td>\n",
       "      <td>160</td>\n",
       "    </tr>\n",
       "    <tr>\n",
       "      <th>B</th>\n",
       "      <td>120</td>\n",
       "      <td>182</td>\n",
       "      <td>186</td>\n",
       "      <td>174</td>\n",
       "      <td>174</td>\n",
       "    </tr>\n",
       "    <tr>\n",
       "      <th>C</th>\n",
       "      <td>187</td>\n",
       "      <td>199</td>\n",
       "      <td>123</td>\n",
       "      <td>102</td>\n",
       "      <td>121</td>\n",
       "    </tr>\n",
       "    <tr>\n",
       "      <th>D</th>\n",
       "      <td>152</td>\n",
       "      <td>101</td>\n",
       "      <td>187</td>\n",
       "      <td>129</td>\n",
       "      <td>137</td>\n",
       "    </tr>\n",
       "    <tr>\n",
       "      <th>E</th>\n",
       "      <td>101</td>\n",
       "      <td>163</td>\n",
       "      <td>159</td>\n",
       "      <td>120</td>\n",
       "      <td>132</td>\n",
       "    </tr>\n",
       "  </tbody>\n",
       "</table>\n",
       "</div>"
      ],
      "text/plain": [
       "     O    P    Q    R    S\n",
       "A  151  192  114  171  160\n",
       "B  120  182  186  174  174\n",
       "C  187  199  123  102  121\n",
       "D  152  101  187  129  137\n",
       "E  101  163  159  120  132"
      ]
     },
     "execution_count": 238,
     "metadata": {},
     "output_type": "execute_result"
    }
   ],
   "source": [
    "df1.drop('new',axis=1,inplace=False) #menghapus kolom\n",
    "#inplace itu menentukan apakah permanent atau tidak (wajib ada)\n",
    "#harus menggunakan axis untuk menghapus"
   ]
  },
  {
   "cell_type": "code",
   "execution_count": 193,
   "id": "0659df38",
   "metadata": {},
   "outputs": [
    {
     "data": {
      "text/html": [
       "<div>\n",
       "<style scoped>\n",
       "    .dataframe tbody tr th:only-of-type {\n",
       "        vertical-align: middle;\n",
       "    }\n",
       "\n",
       "    .dataframe tbody tr th {\n",
       "        vertical-align: top;\n",
       "    }\n",
       "\n",
       "    .dataframe thead th {\n",
       "        text-align: right;\n",
       "    }\n",
       "</style>\n",
       "<table border=\"1\" class=\"dataframe\">\n",
       "  <thead>\n",
       "    <tr style=\"text-align: right;\">\n",
       "      <th></th>\n",
       "      <th>O</th>\n",
       "      <th>P</th>\n",
       "      <th>Q</th>\n",
       "      <th>R</th>\n",
       "      <th>S</th>\n",
       "      <th>new</th>\n",
       "    </tr>\n",
       "  </thead>\n",
       "  <tbody>\n",
       "    <tr>\n",
       "      <th>A</th>\n",
       "      <td>151</td>\n",
       "      <td>192</td>\n",
       "      <td>114</td>\n",
       "      <td>171</td>\n",
       "      <td>160</td>\n",
       "      <td>363</td>\n",
       "    </tr>\n",
       "    <tr>\n",
       "      <th>B</th>\n",
       "      <td>120</td>\n",
       "      <td>182</td>\n",
       "      <td>186</td>\n",
       "      <td>174</td>\n",
       "      <td>174</td>\n",
       "      <td>356</td>\n",
       "    </tr>\n",
       "    <tr>\n",
       "      <th>C</th>\n",
       "      <td>187</td>\n",
       "      <td>199</td>\n",
       "      <td>123</td>\n",
       "      <td>102</td>\n",
       "      <td>121</td>\n",
       "      <td>301</td>\n",
       "    </tr>\n",
       "    <tr>\n",
       "      <th>D</th>\n",
       "      <td>152</td>\n",
       "      <td>101</td>\n",
       "      <td>187</td>\n",
       "      <td>129</td>\n",
       "      <td>137</td>\n",
       "      <td>230</td>\n",
       "    </tr>\n",
       "    <tr>\n",
       "      <th>E</th>\n",
       "      <td>101</td>\n",
       "      <td>163</td>\n",
       "      <td>159</td>\n",
       "      <td>120</td>\n",
       "      <td>132</td>\n",
       "      <td>283</td>\n",
       "    </tr>\n",
       "  </tbody>\n",
       "</table>\n",
       "</div>"
      ],
      "text/plain": [
       "     O    P    Q    R    S  new\n",
       "A  151  192  114  171  160  363\n",
       "B  120  182  186  174  174  356\n",
       "C  187  199  123  102  121  301\n",
       "D  152  101  187  129  137  230\n",
       "E  101  163  159  120  132  283"
      ]
     },
     "execution_count": 193,
     "metadata": {},
     "output_type": "execute_result"
    }
   ],
   "source": [
    "df1"
   ]
  },
  {
   "cell_type": "code",
   "execution_count": 195,
   "id": "9f809e95",
   "metadata": {},
   "outputs": [
    {
     "data": {
      "text/plain": [
       "O      152\n",
       "P      101\n",
       "Q      187\n",
       "R      129\n",
       "S      137\n",
       "new    230\n",
       "Name: D, dtype: int32"
      ]
     },
     "execution_count": 195,
     "metadata": {},
     "output_type": "execute_result"
    }
   ],
   "source": [
    "#operasi pada baris\n",
    "df1.loc['D']"
   ]
  },
  {
   "cell_type": "code",
   "execution_count": 239,
   "id": "6626a13f",
   "metadata": {},
   "outputs": [],
   "source": [
    "df1.loc['old']=df1.loc['B']+df1.loc['E']"
   ]
  },
  {
   "cell_type": "code",
   "execution_count": 240,
   "id": "f487685a",
   "metadata": {},
   "outputs": [
    {
     "data": {
      "text/html": [
       "<div>\n",
       "<style scoped>\n",
       "    .dataframe tbody tr th:only-of-type {\n",
       "        vertical-align: middle;\n",
       "    }\n",
       "\n",
       "    .dataframe tbody tr th {\n",
       "        vertical-align: top;\n",
       "    }\n",
       "\n",
       "    .dataframe thead th {\n",
       "        text-align: right;\n",
       "    }\n",
       "</style>\n",
       "<table border=\"1\" class=\"dataframe\">\n",
       "  <thead>\n",
       "    <tr style=\"text-align: right;\">\n",
       "      <th></th>\n",
       "      <th>O</th>\n",
       "      <th>P</th>\n",
       "      <th>Q</th>\n",
       "      <th>R</th>\n",
       "      <th>S</th>\n",
       "      <th>new</th>\n",
       "    </tr>\n",
       "  </thead>\n",
       "  <tbody>\n",
       "    <tr>\n",
       "      <th>A</th>\n",
       "      <td>151</td>\n",
       "      <td>192</td>\n",
       "      <td>114</td>\n",
       "      <td>171</td>\n",
       "      <td>160</td>\n",
       "      <td>363</td>\n",
       "    </tr>\n",
       "    <tr>\n",
       "      <th>B</th>\n",
       "      <td>120</td>\n",
       "      <td>182</td>\n",
       "      <td>186</td>\n",
       "      <td>174</td>\n",
       "      <td>174</td>\n",
       "      <td>356</td>\n",
       "    </tr>\n",
       "    <tr>\n",
       "      <th>C</th>\n",
       "      <td>187</td>\n",
       "      <td>199</td>\n",
       "      <td>123</td>\n",
       "      <td>102</td>\n",
       "      <td>121</td>\n",
       "      <td>301</td>\n",
       "    </tr>\n",
       "    <tr>\n",
       "      <th>D</th>\n",
       "      <td>152</td>\n",
       "      <td>101</td>\n",
       "      <td>187</td>\n",
       "      <td>129</td>\n",
       "      <td>137</td>\n",
       "      <td>230</td>\n",
       "    </tr>\n",
       "    <tr>\n",
       "      <th>E</th>\n",
       "      <td>101</td>\n",
       "      <td>163</td>\n",
       "      <td>159</td>\n",
       "      <td>120</td>\n",
       "      <td>132</td>\n",
       "      <td>283</td>\n",
       "    </tr>\n",
       "    <tr>\n",
       "      <th>old</th>\n",
       "      <td>221</td>\n",
       "      <td>345</td>\n",
       "      <td>345</td>\n",
       "      <td>294</td>\n",
       "      <td>306</td>\n",
       "      <td>639</td>\n",
       "    </tr>\n",
       "  </tbody>\n",
       "</table>\n",
       "</div>"
      ],
      "text/plain": [
       "       O    P    Q    R    S  new\n",
       "A    151  192  114  171  160  363\n",
       "B    120  182  186  174  174  356\n",
       "C    187  199  123  102  121  301\n",
       "D    152  101  187  129  137  230\n",
       "E    101  163  159  120  132  283\n",
       "old  221  345  345  294  306  639"
      ]
     },
     "execution_count": 240,
     "metadata": {},
     "output_type": "execute_result"
    }
   ],
   "source": [
    "df1"
   ]
  },
  {
   "cell_type": "code",
   "execution_count": 202,
   "id": "894fb123",
   "metadata": {},
   "outputs": [
    {
     "data": {
      "text/plain": [
       "A      False\n",
       "B       True\n",
       "C      False\n",
       "D       True\n",
       "E       True\n",
       "old     True\n",
       "Name: Q, dtype: bool"
      ]
     },
     "execution_count": 202,
     "metadata": {},
     "output_type": "execute_result"
    }
   ],
   "source": [
    "df1['Q']>150 #mengecek kebenaran nilai per kolom"
   ]
  },
  {
   "cell_type": "code",
   "execution_count": 203,
   "id": "6f625007",
   "metadata": {},
   "outputs": [
    {
     "data": {
      "text/plain": [
       "O      False\n",
       "P       True\n",
       "Q       True\n",
       "R       True\n",
       "S       True\n",
       "new     True\n",
       "Name: B, dtype: bool"
      ]
     },
     "execution_count": 203,
     "metadata": {},
     "output_type": "execute_result"
    }
   ],
   "source": [
    "df1.loc['B']>150"
   ]
  },
  {
   "cell_type": "code",
   "execution_count": 241,
   "id": "8a7c6136",
   "metadata": {},
   "outputs": [
    {
     "data": {
      "text/html": [
       "<div>\n",
       "<style scoped>\n",
       "    .dataframe tbody tr th:only-of-type {\n",
       "        vertical-align: middle;\n",
       "    }\n",
       "\n",
       "    .dataframe tbody tr th {\n",
       "        vertical-align: top;\n",
       "    }\n",
       "\n",
       "    .dataframe thead th {\n",
       "        text-align: right;\n",
       "    }\n",
       "</style>\n",
       "<table border=\"1\" class=\"dataframe\">\n",
       "  <thead>\n",
       "    <tr style=\"text-align: right;\">\n",
       "      <th></th>\n",
       "      <th>index</th>\n",
       "      <th>O</th>\n",
       "      <th>P</th>\n",
       "      <th>Q</th>\n",
       "      <th>R</th>\n",
       "      <th>S</th>\n",
       "      <th>new</th>\n",
       "    </tr>\n",
       "  </thead>\n",
       "  <tbody>\n",
       "    <tr>\n",
       "      <th>0</th>\n",
       "      <td>A</td>\n",
       "      <td>151</td>\n",
       "      <td>192</td>\n",
       "      <td>114</td>\n",
       "      <td>171</td>\n",
       "      <td>160</td>\n",
       "      <td>363</td>\n",
       "    </tr>\n",
       "    <tr>\n",
       "      <th>1</th>\n",
       "      <td>B</td>\n",
       "      <td>120</td>\n",
       "      <td>182</td>\n",
       "      <td>186</td>\n",
       "      <td>174</td>\n",
       "      <td>174</td>\n",
       "      <td>356</td>\n",
       "    </tr>\n",
       "    <tr>\n",
       "      <th>2</th>\n",
       "      <td>C</td>\n",
       "      <td>187</td>\n",
       "      <td>199</td>\n",
       "      <td>123</td>\n",
       "      <td>102</td>\n",
       "      <td>121</td>\n",
       "      <td>301</td>\n",
       "    </tr>\n",
       "    <tr>\n",
       "      <th>3</th>\n",
       "      <td>D</td>\n",
       "      <td>152</td>\n",
       "      <td>101</td>\n",
       "      <td>187</td>\n",
       "      <td>129</td>\n",
       "      <td>137</td>\n",
       "      <td>230</td>\n",
       "    </tr>\n",
       "    <tr>\n",
       "      <th>4</th>\n",
       "      <td>E</td>\n",
       "      <td>101</td>\n",
       "      <td>163</td>\n",
       "      <td>159</td>\n",
       "      <td>120</td>\n",
       "      <td>132</td>\n",
       "      <td>283</td>\n",
       "    </tr>\n",
       "    <tr>\n",
       "      <th>5</th>\n",
       "      <td>old</td>\n",
       "      <td>221</td>\n",
       "      <td>345</td>\n",
       "      <td>345</td>\n",
       "      <td>294</td>\n",
       "      <td>306</td>\n",
       "      <td>639</td>\n",
       "    </tr>\n",
       "  </tbody>\n",
       "</table>\n",
       "</div>"
      ],
      "text/plain": [
       "  index    O    P    Q    R    S  new\n",
       "0     A  151  192  114  171  160  363\n",
       "1     B  120  182  186  174  174  356\n",
       "2     C  187  199  123  102  121  301\n",
       "3     D  152  101  187  129  137  230\n",
       "4     E  101  163  159  120  132  283\n",
       "5   old  221  345  345  294  306  639"
      ]
     },
     "execution_count": 241,
     "metadata": {},
     "output_type": "execute_result"
    }
   ],
   "source": [
    "df1.reset_index() #untuk menambahkan kolom index"
   ]
  },
  {
   "cell_type": "code",
   "execution_count": 242,
   "id": "cee4fb5d",
   "metadata": {},
   "outputs": [],
   "source": [
    "#menambahkan data baru tanpa banyak koma\n",
    "code='AB BC CD DE EF FG'.split() "
   ]
  },
  {
   "cell_type": "code",
   "execution_count": 243,
   "id": "7a67aea3",
   "metadata": {},
   "outputs": [],
   "source": [
    "df1['code']=code"
   ]
  },
  {
   "cell_type": "code",
   "execution_count": 244,
   "id": "983cf6d0",
   "metadata": {},
   "outputs": [
    {
     "data": {
      "text/html": [
       "<div>\n",
       "<style scoped>\n",
       "    .dataframe tbody tr th:only-of-type {\n",
       "        vertical-align: middle;\n",
       "    }\n",
       "\n",
       "    .dataframe tbody tr th {\n",
       "        vertical-align: top;\n",
       "    }\n",
       "\n",
       "    .dataframe thead th {\n",
       "        text-align: right;\n",
       "    }\n",
       "</style>\n",
       "<table border=\"1\" class=\"dataframe\">\n",
       "  <thead>\n",
       "    <tr style=\"text-align: right;\">\n",
       "      <th></th>\n",
       "      <th>O</th>\n",
       "      <th>P</th>\n",
       "      <th>Q</th>\n",
       "      <th>R</th>\n",
       "      <th>S</th>\n",
       "      <th>new</th>\n",
       "      <th>code</th>\n",
       "    </tr>\n",
       "  </thead>\n",
       "  <tbody>\n",
       "    <tr>\n",
       "      <th>A</th>\n",
       "      <td>151</td>\n",
       "      <td>192</td>\n",
       "      <td>114</td>\n",
       "      <td>171</td>\n",
       "      <td>160</td>\n",
       "      <td>363</td>\n",
       "      <td>AB</td>\n",
       "    </tr>\n",
       "    <tr>\n",
       "      <th>B</th>\n",
       "      <td>120</td>\n",
       "      <td>182</td>\n",
       "      <td>186</td>\n",
       "      <td>174</td>\n",
       "      <td>174</td>\n",
       "      <td>356</td>\n",
       "      <td>BC</td>\n",
       "    </tr>\n",
       "    <tr>\n",
       "      <th>C</th>\n",
       "      <td>187</td>\n",
       "      <td>199</td>\n",
       "      <td>123</td>\n",
       "      <td>102</td>\n",
       "      <td>121</td>\n",
       "      <td>301</td>\n",
       "      <td>CD</td>\n",
       "    </tr>\n",
       "    <tr>\n",
       "      <th>D</th>\n",
       "      <td>152</td>\n",
       "      <td>101</td>\n",
       "      <td>187</td>\n",
       "      <td>129</td>\n",
       "      <td>137</td>\n",
       "      <td>230</td>\n",
       "      <td>DE</td>\n",
       "    </tr>\n",
       "    <tr>\n",
       "      <th>E</th>\n",
       "      <td>101</td>\n",
       "      <td>163</td>\n",
       "      <td>159</td>\n",
       "      <td>120</td>\n",
       "      <td>132</td>\n",
       "      <td>283</td>\n",
       "      <td>EF</td>\n",
       "    </tr>\n",
       "    <tr>\n",
       "      <th>old</th>\n",
       "      <td>221</td>\n",
       "      <td>345</td>\n",
       "      <td>345</td>\n",
       "      <td>294</td>\n",
       "      <td>306</td>\n",
       "      <td>639</td>\n",
       "      <td>FG</td>\n",
       "    </tr>\n",
       "  </tbody>\n",
       "</table>\n",
       "</div>"
      ],
      "text/plain": [
       "       O    P    Q    R    S  new code\n",
       "A    151  192  114  171  160  363   AB\n",
       "B    120  182  186  174  174  356   BC\n",
       "C    187  199  123  102  121  301   CD\n",
       "D    152  101  187  129  137  230   DE\n",
       "E    101  163  159  120  132  283   EF\n",
       "old  221  345  345  294  306  639   FG"
      ]
     },
     "execution_count": 244,
     "metadata": {},
     "output_type": "execute_result"
    }
   ],
   "source": [
    "df1"
   ]
  },
  {
   "cell_type": "code",
   "execution_count": 246,
   "id": "6c29a773",
   "metadata": {},
   "outputs": [],
   "source": [
    "df1=df1.set_index('code')"
   ]
  },
  {
   "cell_type": "code",
   "execution_count": 247,
   "id": "3f57ee2a",
   "metadata": {},
   "outputs": [
    {
     "data": {
      "text/html": [
       "<div>\n",
       "<style scoped>\n",
       "    .dataframe tbody tr th:only-of-type {\n",
       "        vertical-align: middle;\n",
       "    }\n",
       "\n",
       "    .dataframe tbody tr th {\n",
       "        vertical-align: top;\n",
       "    }\n",
       "\n",
       "    .dataframe thead th {\n",
       "        text-align: right;\n",
       "    }\n",
       "</style>\n",
       "<table border=\"1\" class=\"dataframe\">\n",
       "  <thead>\n",
       "    <tr style=\"text-align: right;\">\n",
       "      <th></th>\n",
       "      <th>O</th>\n",
       "      <th>P</th>\n",
       "      <th>Q</th>\n",
       "      <th>R</th>\n",
       "      <th>S</th>\n",
       "      <th>new</th>\n",
       "    </tr>\n",
       "    <tr>\n",
       "      <th>code</th>\n",
       "      <th></th>\n",
       "      <th></th>\n",
       "      <th></th>\n",
       "      <th></th>\n",
       "      <th></th>\n",
       "      <th></th>\n",
       "    </tr>\n",
       "  </thead>\n",
       "  <tbody>\n",
       "    <tr>\n",
       "      <th>AB</th>\n",
       "      <td>151</td>\n",
       "      <td>192</td>\n",
       "      <td>114</td>\n",
       "      <td>171</td>\n",
       "      <td>160</td>\n",
       "      <td>363</td>\n",
       "    </tr>\n",
       "    <tr>\n",
       "      <th>BC</th>\n",
       "      <td>120</td>\n",
       "      <td>182</td>\n",
       "      <td>186</td>\n",
       "      <td>174</td>\n",
       "      <td>174</td>\n",
       "      <td>356</td>\n",
       "    </tr>\n",
       "    <tr>\n",
       "      <th>CD</th>\n",
       "      <td>187</td>\n",
       "      <td>199</td>\n",
       "      <td>123</td>\n",
       "      <td>102</td>\n",
       "      <td>121</td>\n",
       "      <td>301</td>\n",
       "    </tr>\n",
       "    <tr>\n",
       "      <th>DE</th>\n",
       "      <td>152</td>\n",
       "      <td>101</td>\n",
       "      <td>187</td>\n",
       "      <td>129</td>\n",
       "      <td>137</td>\n",
       "      <td>230</td>\n",
       "    </tr>\n",
       "    <tr>\n",
       "      <th>EF</th>\n",
       "      <td>101</td>\n",
       "      <td>163</td>\n",
       "      <td>159</td>\n",
       "      <td>120</td>\n",
       "      <td>132</td>\n",
       "      <td>283</td>\n",
       "    </tr>\n",
       "    <tr>\n",
       "      <th>FG</th>\n",
       "      <td>221</td>\n",
       "      <td>345</td>\n",
       "      <td>345</td>\n",
       "      <td>294</td>\n",
       "      <td>306</td>\n",
       "      <td>639</td>\n",
       "    </tr>\n",
       "  </tbody>\n",
       "</table>\n",
       "</div>"
      ],
      "text/plain": [
       "        O    P    Q    R    S  new\n",
       "code                              \n",
       "AB    151  192  114  171  160  363\n",
       "BC    120  182  186  174  174  356\n",
       "CD    187  199  123  102  121  301\n",
       "DE    152  101  187  129  137  230\n",
       "EF    101  163  159  120  132  283\n",
       "FG    221  345  345  294  306  639"
      ]
     },
     "execution_count": 247,
     "metadata": {},
     "output_type": "execute_result"
    }
   ],
   "source": [
    "df1"
   ]
  },
  {
   "cell_type": "code",
   "execution_count": 248,
   "id": "27f22dc2",
   "metadata": {},
   "outputs": [
    {
     "data": {
      "text/html": [
       "<div>\n",
       "<style scoped>\n",
       "    .dataframe tbody tr th:only-of-type {\n",
       "        vertical-align: middle;\n",
       "    }\n",
       "\n",
       "    .dataframe tbody tr th {\n",
       "        vertical-align: top;\n",
       "    }\n",
       "\n",
       "    .dataframe thead th {\n",
       "        text-align: right;\n",
       "    }\n",
       "</style>\n",
       "<table border=\"1\" class=\"dataframe\">\n",
       "  <thead>\n",
       "    <tr style=\"text-align: right;\">\n",
       "      <th></th>\n",
       "      <th>O</th>\n",
       "      <th>P</th>\n",
       "      <th>Q</th>\n",
       "      <th>R</th>\n",
       "      <th>S</th>\n",
       "      <th>new</th>\n",
       "    </tr>\n",
       "  </thead>\n",
       "  <tbody>\n",
       "    <tr>\n",
       "      <th>count</th>\n",
       "      <td>6.000000</td>\n",
       "      <td>6.000000</td>\n",
       "      <td>6.000000</td>\n",
       "      <td>6.00000</td>\n",
       "      <td>6.000000</td>\n",
       "      <td>6.000000</td>\n",
       "    </tr>\n",
       "    <tr>\n",
       "      <th>mean</th>\n",
       "      <td>155.333333</td>\n",
       "      <td>197.000000</td>\n",
       "      <td>185.666667</td>\n",
       "      <td>165.00000</td>\n",
       "      <td>171.666667</td>\n",
       "      <td>362.000000</td>\n",
       "    </tr>\n",
       "    <tr>\n",
       "      <th>std</th>\n",
       "      <td>43.692867</td>\n",
       "      <td>80.659779</td>\n",
       "      <td>83.860996</td>\n",
       "      <td>69.35128</td>\n",
       "      <td>68.599320</td>\n",
       "      <td>144.327406</td>\n",
       "    </tr>\n",
       "    <tr>\n",
       "      <th>min</th>\n",
       "      <td>101.000000</td>\n",
       "      <td>101.000000</td>\n",
       "      <td>114.000000</td>\n",
       "      <td>102.00000</td>\n",
       "      <td>121.000000</td>\n",
       "      <td>230.000000</td>\n",
       "    </tr>\n",
       "    <tr>\n",
       "      <th>25%</th>\n",
       "      <td>127.750000</td>\n",
       "      <td>167.750000</td>\n",
       "      <td>132.000000</td>\n",
       "      <td>122.25000</td>\n",
       "      <td>133.250000</td>\n",
       "      <td>287.500000</td>\n",
       "    </tr>\n",
       "    <tr>\n",
       "      <th>50%</th>\n",
       "      <td>151.500000</td>\n",
       "      <td>187.000000</td>\n",
       "      <td>172.500000</td>\n",
       "      <td>150.00000</td>\n",
       "      <td>148.500000</td>\n",
       "      <td>328.500000</td>\n",
       "    </tr>\n",
       "    <tr>\n",
       "      <th>75%</th>\n",
       "      <td>178.250000</td>\n",
       "      <td>197.250000</td>\n",
       "      <td>186.750000</td>\n",
       "      <td>173.25000</td>\n",
       "      <td>170.500000</td>\n",
       "      <td>361.250000</td>\n",
       "    </tr>\n",
       "    <tr>\n",
       "      <th>max</th>\n",
       "      <td>221.000000</td>\n",
       "      <td>345.000000</td>\n",
       "      <td>345.000000</td>\n",
       "      <td>294.00000</td>\n",
       "      <td>306.000000</td>\n",
       "      <td>639.000000</td>\n",
       "    </tr>\n",
       "  </tbody>\n",
       "</table>\n",
       "</div>"
      ],
      "text/plain": [
       "                O           P           Q          R           S         new\n",
       "count    6.000000    6.000000    6.000000    6.00000    6.000000    6.000000\n",
       "mean   155.333333  197.000000  185.666667  165.00000  171.666667  362.000000\n",
       "std     43.692867   80.659779   83.860996   69.35128   68.599320  144.327406\n",
       "min    101.000000  101.000000  114.000000  102.00000  121.000000  230.000000\n",
       "25%    127.750000  167.750000  132.000000  122.25000  133.250000  287.500000\n",
       "50%    151.500000  187.000000  172.500000  150.00000  148.500000  328.500000\n",
       "75%    178.250000  197.250000  186.750000  173.25000  170.500000  361.250000\n",
       "max    221.000000  345.000000  345.000000  294.00000  306.000000  639.000000"
      ]
     },
     "execution_count": 248,
     "metadata": {},
     "output_type": "execute_result"
    }
   ],
   "source": [
    "#datasummary\n",
    "df1.describe()"
   ]
  },
  {
   "cell_type": "code",
   "execution_count": 249,
   "id": "f3313abc",
   "metadata": {},
   "outputs": [
    {
     "name": "stdout",
     "output_type": "stream",
     "text": [
      "<class 'pandas.core.frame.DataFrame'>\n",
      "Index: 6 entries, AB to FG\n",
      "Data columns (total 6 columns):\n",
      " #   Column  Non-Null Count  Dtype\n",
      "---  ------  --------------  -----\n",
      " 0   O       6 non-null      int32\n",
      " 1   P       6 non-null      int32\n",
      " 2   Q       6 non-null      int32\n",
      " 3   R       6 non-null      int32\n",
      " 4   S       6 non-null      int32\n",
      " 5   new     6 non-null      int32\n",
      "dtypes: int32(6)\n",
      "memory usage: 192.0+ bytes\n"
     ]
    }
   ],
   "source": [
    "df1.info() #informasi data"
   ]
  },
  {
   "cell_type": "code",
   "execution_count": 250,
   "id": "8782e699",
   "metadata": {},
   "outputs": [
    {
     "data": {
      "text/html": [
       "<div>\n",
       "<style scoped>\n",
       "    .dataframe tbody tr th:only-of-type {\n",
       "        vertical-align: middle;\n",
       "    }\n",
       "\n",
       "    .dataframe tbody tr th {\n",
       "        vertical-align: top;\n",
       "    }\n",
       "\n",
       "    .dataframe thead th {\n",
       "        text-align: right;\n",
       "    }\n",
       "</style>\n",
       "<table border=\"1\" class=\"dataframe\">\n",
       "  <thead>\n",
       "    <tr style=\"text-align: right;\">\n",
       "      <th></th>\n",
       "      <th>code</th>\n",
       "      <th>O</th>\n",
       "      <th>P</th>\n",
       "      <th>Q</th>\n",
       "      <th>R</th>\n",
       "      <th>S</th>\n",
       "      <th>new</th>\n",
       "    </tr>\n",
       "  </thead>\n",
       "  <tbody>\n",
       "    <tr>\n",
       "      <th>0</th>\n",
       "      <td>AB</td>\n",
       "      <td>151</td>\n",
       "      <td>192</td>\n",
       "      <td>114</td>\n",
       "      <td>171</td>\n",
       "      <td>160</td>\n",
       "      <td>363</td>\n",
       "    </tr>\n",
       "    <tr>\n",
       "      <th>1</th>\n",
       "      <td>BC</td>\n",
       "      <td>120</td>\n",
       "      <td>182</td>\n",
       "      <td>186</td>\n",
       "      <td>174</td>\n",
       "      <td>174</td>\n",
       "      <td>356</td>\n",
       "    </tr>\n",
       "    <tr>\n",
       "      <th>2</th>\n",
       "      <td>CD</td>\n",
       "      <td>187</td>\n",
       "      <td>199</td>\n",
       "      <td>123</td>\n",
       "      <td>102</td>\n",
       "      <td>121</td>\n",
       "      <td>301</td>\n",
       "    </tr>\n",
       "    <tr>\n",
       "      <th>3</th>\n",
       "      <td>DE</td>\n",
       "      <td>152</td>\n",
       "      <td>101</td>\n",
       "      <td>187</td>\n",
       "      <td>129</td>\n",
       "      <td>137</td>\n",
       "      <td>230</td>\n",
       "    </tr>\n",
       "    <tr>\n",
       "      <th>4</th>\n",
       "      <td>EF</td>\n",
       "      <td>101</td>\n",
       "      <td>163</td>\n",
       "      <td>159</td>\n",
       "      <td>120</td>\n",
       "      <td>132</td>\n",
       "      <td>283</td>\n",
       "    </tr>\n",
       "    <tr>\n",
       "      <th>5</th>\n",
       "      <td>FG</td>\n",
       "      <td>221</td>\n",
       "      <td>345</td>\n",
       "      <td>345</td>\n",
       "      <td>294</td>\n",
       "      <td>306</td>\n",
       "      <td>639</td>\n",
       "    </tr>\n",
       "  </tbody>\n",
       "</table>\n",
       "</div>"
      ],
      "text/plain": [
       "  code    O    P    Q    R    S  new\n",
       "0   AB  151  192  114  171  160  363\n",
       "1   BC  120  182  186  174  174  356\n",
       "2   CD  187  199  123  102  121  301\n",
       "3   DE  152  101  187  129  137  230\n",
       "4   EF  101  163  159  120  132  283\n",
       "5   FG  221  345  345  294  306  639"
      ]
     },
     "execution_count": 250,
     "metadata": {},
     "output_type": "execute_result"
    }
   ],
   "source": [
    "df1.reset_index() #untuk menonaktifkan indeks pada code"
   ]
  },
  {
   "cell_type": "code",
   "execution_count": 262,
   "id": "a0af8bc9",
   "metadata": {},
   "outputs": [
    {
     "data": {
      "text/html": [
       "<div>\n",
       "<style scoped>\n",
       "    .dataframe tbody tr th:only-of-type {\n",
       "        vertical-align: middle;\n",
       "    }\n",
       "\n",
       "    .dataframe tbody tr th {\n",
       "        vertical-align: top;\n",
       "    }\n",
       "\n",
       "    .dataframe thead th {\n",
       "        text-align: right;\n",
       "    }\n",
       "</style>\n",
       "<table border=\"1\" class=\"dataframe\">\n",
       "  <thead>\n",
       "    <tr style=\"text-align: right;\">\n",
       "      <th></th>\n",
       "      <th>A</th>\n",
       "      <th>B</th>\n",
       "      <th>C</th>\n",
       "    </tr>\n",
       "  </thead>\n",
       "  <tbody>\n",
       "    <tr>\n",
       "      <th>0</th>\n",
       "      <td>1.0</td>\n",
       "      <td>2.0</td>\n",
       "      <td>3.0</td>\n",
       "    </tr>\n",
       "    <tr>\n",
       "      <th>1</th>\n",
       "      <td>2.0</td>\n",
       "      <td>4.0</td>\n",
       "      <td>6.0</td>\n",
       "    </tr>\n",
       "    <tr>\n",
       "      <th>2</th>\n",
       "      <td>NaN</td>\n",
       "      <td>NaN</td>\n",
       "      <td>NaN</td>\n",
       "    </tr>\n",
       "    <tr>\n",
       "      <th>3</th>\n",
       "      <td>4.0</td>\n",
       "      <td>NaN</td>\n",
       "      <td>NaN</td>\n",
       "    </tr>\n",
       "    <tr>\n",
       "      <th>4</th>\n",
       "      <td>7.0</td>\n",
       "      <td>5.0</td>\n",
       "      <td>NaN</td>\n",
       "    </tr>\n",
       "  </tbody>\n",
       "</table>\n",
       "</div>"
      ],
      "text/plain": [
       "     A    B    C\n",
       "0  1.0  2.0  3.0\n",
       "1  2.0  4.0  6.0\n",
       "2  NaN  NaN  NaN\n",
       "3  4.0  NaN  NaN\n",
       "4  7.0  5.0  NaN"
      ]
     },
     "execution_count": 262,
     "metadata": {},
     "output_type": "execute_result"
    }
   ],
   "source": [
    "#missing data\n",
    "mis=pd.DataFrame({'A':[1,2,np.nan,4,7],\n",
    "                'B':[2,4,np.nan,np.nan,5],\n",
    "                'C':[3,6,np.nan,np.nan,np.nan]})\n",
    "mis"
   ]
  },
  {
   "cell_type": "code",
   "execution_count": 263,
   "id": "4f6128a3",
   "metadata": {},
   "outputs": [
    {
     "data": {
      "text/html": [
       "<div>\n",
       "<style scoped>\n",
       "    .dataframe tbody tr th:only-of-type {\n",
       "        vertical-align: middle;\n",
       "    }\n",
       "\n",
       "    .dataframe tbody tr th {\n",
       "        vertical-align: top;\n",
       "    }\n",
       "\n",
       "    .dataframe thead th {\n",
       "        text-align: right;\n",
       "    }\n",
       "</style>\n",
       "<table border=\"1\" class=\"dataframe\">\n",
       "  <thead>\n",
       "    <tr style=\"text-align: right;\">\n",
       "      <th></th>\n",
       "      <th>A</th>\n",
       "      <th>B</th>\n",
       "      <th>C</th>\n",
       "    </tr>\n",
       "  </thead>\n",
       "  <tbody>\n",
       "    <tr>\n",
       "      <th>0</th>\n",
       "      <td>1.0</td>\n",
       "      <td>2.0</td>\n",
       "      <td>3.0</td>\n",
       "    </tr>\n",
       "    <tr>\n",
       "      <th>1</th>\n",
       "      <td>2.0</td>\n",
       "      <td>4.0</td>\n",
       "      <td>6.0</td>\n",
       "    </tr>\n",
       "  </tbody>\n",
       "</table>\n",
       "</div>"
      ],
      "text/plain": [
       "     A    B    C\n",
       "0  1.0  2.0  3.0\n",
       "1  2.0  4.0  6.0"
      ]
     },
     "execution_count": 263,
     "metadata": {},
     "output_type": "execute_result"
    }
   ],
   "source": [
    "mis.dropna()"
   ]
  },
  {
   "cell_type": "code",
   "execution_count": 264,
   "id": "e824ef58",
   "metadata": {},
   "outputs": [
    {
     "data": {
      "text/html": [
       "<div>\n",
       "<style scoped>\n",
       "    .dataframe tbody tr th:only-of-type {\n",
       "        vertical-align: middle;\n",
       "    }\n",
       "\n",
       "    .dataframe tbody tr th {\n",
       "        vertical-align: top;\n",
       "    }\n",
       "\n",
       "    .dataframe thead th {\n",
       "        text-align: right;\n",
       "    }\n",
       "</style>\n",
       "<table border=\"1\" class=\"dataframe\">\n",
       "  <thead>\n",
       "    <tr style=\"text-align: right;\">\n",
       "      <th></th>\n",
       "    </tr>\n",
       "  </thead>\n",
       "  <tbody>\n",
       "    <tr>\n",
       "      <th>0</th>\n",
       "    </tr>\n",
       "    <tr>\n",
       "      <th>1</th>\n",
       "    </tr>\n",
       "    <tr>\n",
       "      <th>2</th>\n",
       "    </tr>\n",
       "    <tr>\n",
       "      <th>3</th>\n",
       "    </tr>\n",
       "    <tr>\n",
       "      <th>4</th>\n",
       "    </tr>\n",
       "  </tbody>\n",
       "</table>\n",
       "</div>"
      ],
      "text/plain": [
       "Empty DataFrame\n",
       "Columns: []\n",
       "Index: [0, 1, 2, 3, 4]"
      ]
     },
     "execution_count": 264,
     "metadata": {},
     "output_type": "execute_result"
    }
   ],
   "source": [
    "mis.dropna(axis=1)"
   ]
  },
  {
   "cell_type": "code",
   "execution_count": 265,
   "id": "de7ae36d",
   "metadata": {},
   "outputs": [
    {
     "data": {
      "text/html": [
       "<div>\n",
       "<style scoped>\n",
       "    .dataframe tbody tr th:only-of-type {\n",
       "        vertical-align: middle;\n",
       "    }\n",
       "\n",
       "    .dataframe tbody tr th {\n",
       "        vertical-align: top;\n",
       "    }\n",
       "\n",
       "    .dataframe thead th {\n",
       "        text-align: right;\n",
       "    }\n",
       "</style>\n",
       "<table border=\"1\" class=\"dataframe\">\n",
       "  <thead>\n",
       "    <tr style=\"text-align: right;\">\n",
       "      <th></th>\n",
       "      <th>A</th>\n",
       "      <th>B</th>\n",
       "      <th>C</th>\n",
       "    </tr>\n",
       "  </thead>\n",
       "  <tbody>\n",
       "    <tr>\n",
       "      <th>0</th>\n",
       "      <td>1.0</td>\n",
       "      <td>2.0</td>\n",
       "      <td>3.0</td>\n",
       "    </tr>\n",
       "    <tr>\n",
       "      <th>1</th>\n",
       "      <td>2.0</td>\n",
       "      <td>4.0</td>\n",
       "      <td>6.0</td>\n",
       "    </tr>\n",
       "  </tbody>\n",
       "</table>\n",
       "</div>"
      ],
      "text/plain": [
       "     A    B    C\n",
       "0  1.0  2.0  3.0\n",
       "1  2.0  4.0  6.0"
      ]
     },
     "execution_count": 265,
     "metadata": {},
     "output_type": "execute_result"
    }
   ],
   "source": [
    "mis.dropna(axis=0)"
   ]
  },
  {
   "cell_type": "code",
   "execution_count": 266,
   "id": "189196df",
   "metadata": {},
   "outputs": [
    {
     "data": {
      "text/html": [
       "<div>\n",
       "<style scoped>\n",
       "    .dataframe tbody tr th:only-of-type {\n",
       "        vertical-align: middle;\n",
       "    }\n",
       "\n",
       "    .dataframe tbody tr th {\n",
       "        vertical-align: top;\n",
       "    }\n",
       "\n",
       "    .dataframe thead th {\n",
       "        text-align: right;\n",
       "    }\n",
       "</style>\n",
       "<table border=\"1\" class=\"dataframe\">\n",
       "  <thead>\n",
       "    <tr style=\"text-align: right;\">\n",
       "      <th></th>\n",
       "      <th>A</th>\n",
       "      <th>B</th>\n",
       "      <th>C</th>\n",
       "    </tr>\n",
       "  </thead>\n",
       "  <tbody>\n",
       "    <tr>\n",
       "      <th>0</th>\n",
       "      <td>1.0</td>\n",
       "      <td>2.0</td>\n",
       "      <td>3.0</td>\n",
       "    </tr>\n",
       "    <tr>\n",
       "      <th>1</th>\n",
       "      <td>2.0</td>\n",
       "      <td>4.0</td>\n",
       "      <td>6.0</td>\n",
       "    </tr>\n",
       "    <tr>\n",
       "      <th>4</th>\n",
       "      <td>7.0</td>\n",
       "      <td>5.0</td>\n",
       "      <td>NaN</td>\n",
       "    </tr>\n",
       "  </tbody>\n",
       "</table>\n",
       "</div>"
      ],
      "text/plain": [
       "     A    B    C\n",
       "0  1.0  2.0  3.0\n",
       "1  2.0  4.0  6.0\n",
       "4  7.0  5.0  NaN"
      ]
     },
     "execution_count": 266,
     "metadata": {},
     "output_type": "execute_result"
    }
   ],
   "source": [
    "mis.dropna(thresh=2) #drop setting sesuai jumlah na nya"
   ]
  },
  {
   "cell_type": "code",
   "execution_count": 267,
   "id": "104d6d98",
   "metadata": {},
   "outputs": [
    {
     "data": {
      "text/html": [
       "<div>\n",
       "<style scoped>\n",
       "    .dataframe tbody tr th:only-of-type {\n",
       "        vertical-align: middle;\n",
       "    }\n",
       "\n",
       "    .dataframe tbody tr th {\n",
       "        vertical-align: top;\n",
       "    }\n",
       "\n",
       "    .dataframe thead th {\n",
       "        text-align: right;\n",
       "    }\n",
       "</style>\n",
       "<table border=\"1\" class=\"dataframe\">\n",
       "  <thead>\n",
       "    <tr style=\"text-align: right;\">\n",
       "      <th></th>\n",
       "      <th>A</th>\n",
       "      <th>B</th>\n",
       "      <th>C</th>\n",
       "    </tr>\n",
       "  </thead>\n",
       "  <tbody>\n",
       "    <tr>\n",
       "      <th>0</th>\n",
       "      <td>1.0</td>\n",
       "      <td>2.0</td>\n",
       "      <td>3.0</td>\n",
       "    </tr>\n",
       "    <tr>\n",
       "      <th>1</th>\n",
       "      <td>2.0</td>\n",
       "      <td>4.0</td>\n",
       "      <td>6.0</td>\n",
       "    </tr>\n",
       "    <tr>\n",
       "      <th>2</th>\n",
       "      <td>orgil</td>\n",
       "      <td>orgil</td>\n",
       "      <td>orgil</td>\n",
       "    </tr>\n",
       "    <tr>\n",
       "      <th>3</th>\n",
       "      <td>4.0</td>\n",
       "      <td>orgil</td>\n",
       "      <td>orgil</td>\n",
       "    </tr>\n",
       "    <tr>\n",
       "      <th>4</th>\n",
       "      <td>7.0</td>\n",
       "      <td>5.0</td>\n",
       "      <td>orgil</td>\n",
       "    </tr>\n",
       "  </tbody>\n",
       "</table>\n",
       "</div>"
      ],
      "text/plain": [
       "       A      B      C\n",
       "0    1.0    2.0    3.0\n",
       "1    2.0    4.0    6.0\n",
       "2  orgil  orgil  orgil\n",
       "3    4.0  orgil  orgil\n",
       "4    7.0    5.0  orgil"
      ]
     },
     "execution_count": 267,
     "metadata": {},
     "output_type": "execute_result"
    }
   ],
   "source": [
    "mis.fillna(value='orgil')"
   ]
  },
  {
   "cell_type": "code",
   "execution_count": 268,
   "id": "54dab7a0",
   "metadata": {},
   "outputs": [
    {
     "data": {
      "text/plain": [
       "0     2.0\n",
       "1     4.0\n",
       "2    Goku\n",
       "3    Goku\n",
       "4     5.0\n",
       "Name: B, dtype: object"
      ]
     },
     "execution_count": 268,
     "metadata": {},
     "output_type": "execute_result"
    }
   ],
   "source": [
    "mis['B'].fillna(value='Goku')"
   ]
  },
  {
   "cell_type": "code",
   "execution_count": 271,
   "id": "176ccf7a",
   "metadata": {},
   "outputs": [
    {
     "data": {
      "text/plain": [
       "0    2.000000\n",
       "1    4.000000\n",
       "2    3.666667\n",
       "3    3.666667\n",
       "4    5.000000\n",
       "Name: B, dtype: float64"
      ]
     },
     "execution_count": 271,
     "metadata": {},
     "output_type": "execute_result"
    }
   ],
   "source": [
    "mis['B'].fillna(mis['B'].mean()) #kolom B pada data mis diisi dengan mean dari kolom B itu"
   ]
  },
  {
   "cell_type": "code",
   "execution_count": 272,
   "id": "2c9006d0",
   "metadata": {},
   "outputs": [
    {
     "data": {
      "text/plain": [
       "0    1.000000\n",
       "1    2.000000\n",
       "2    3.666667\n",
       "3    4.000000\n",
       "4    7.000000\n",
       "Name: A, dtype: float64"
      ]
     },
     "execution_count": 272,
     "metadata": {},
     "output_type": "execute_result"
    }
   ],
   "source": [
    "mis['A'].fillna(mis['B'].mean()) #kolom A pada data mis diisi dengan mean dari kolom B data mis"
   ]
  },
  {
   "cell_type": "code",
   "execution_count": 275,
   "id": "c8010a51",
   "metadata": {},
   "outputs": [],
   "source": [
    "df3=pd.read_excel('D:\\Bahan Statistika\\Data BBM.xlsx')"
   ]
  },
  {
   "cell_type": "code",
   "execution_count": 280,
   "id": "f86607e0",
   "metadata": {},
   "outputs": [],
   "source": [
    "kelompok=df3.groupby('Klaster') #pengelompokan data berdasarkan variabel klaster"
   ]
  },
  {
   "cell_type": "code",
   "execution_count": 282,
   "id": "f29da1a4",
   "metadata": {},
   "outputs": [
    {
     "data": {
      "text/plain": [
       "<pandas.core.groupby.generic.DataFrameGroupBy object at 0x0000020C2C13ED50>"
      ]
     },
     "execution_count": 282,
     "metadata": {},
     "output_type": "execute_result"
    }
   ],
   "source": [
    "kelompok"
   ]
  },
  {
   "cell_type": "code",
   "execution_count": 291,
   "id": "df071b25",
   "metadata": {},
   "outputs": [
    {
     "data": {
      "text/html": [
       "<div>\n",
       "<style scoped>\n",
       "    .dataframe tbody tr th:only-of-type {\n",
       "        vertical-align: middle;\n",
       "    }\n",
       "\n",
       "    .dataframe tbody tr th {\n",
       "        vertical-align: top;\n",
       "    }\n",
       "\n",
       "    .dataframe thead th {\n",
       "        text-align: right;\n",
       "    }\n",
       "</style>\n",
       "<table border=\"1\" class=\"dataframe\">\n",
       "  <thead>\n",
       "    <tr style=\"text-align: right;\">\n",
       "      <th></th>\n",
       "      <th>No</th>\n",
       "      <th>Provinsi</th>\n",
       "      <th>Tangki (Y)</th>\n",
       "      <th>mopen</th>\n",
       "      <th>bus</th>\n",
       "      <th>truk</th>\n",
       "      <th>sepmor</th>\n",
       "      <th>GAS</th>\n",
       "      <th>BBM</th>\n",
       "      <th>Penduduk</th>\n",
       "    </tr>\n",
       "    <tr>\n",
       "      <th>Klaster</th>\n",
       "      <th></th>\n",
       "      <th></th>\n",
       "      <th></th>\n",
       "      <th></th>\n",
       "      <th></th>\n",
       "      <th></th>\n",
       "      <th></th>\n",
       "      <th></th>\n",
       "      <th></th>\n",
       "      <th></th>\n",
       "    </tr>\n",
       "  </thead>\n",
       "  <tbody>\n",
       "    <tr>\n",
       "      <th>1</th>\n",
       "      <td>102</td>\n",
       "      <td>sumatera Utarakepulauan riausumatera Selatanla...</td>\n",
       "      <td>26393012</td>\n",
       "      <td>5158789</td>\n",
       "      <td>1257773</td>\n",
       "      <td>2624755</td>\n",
       "      <td>22594369</td>\n",
       "      <td>21703.75</td>\n",
       "      <td>43711.4</td>\n",
       "      <td>117772.3</td>\n",
       "    </tr>\n",
       "    <tr>\n",
       "      <th>2</th>\n",
       "      <td>126</td>\n",
       "      <td>Acehsumatera BaratjambiyogyakartaBaliKalimanta...</td>\n",
       "      <td>6568797</td>\n",
       "      <td>2312555</td>\n",
       "      <td>449534</td>\n",
       "      <td>1082660</td>\n",
       "      <td>13212662</td>\n",
       "      <td>7485.27</td>\n",
       "      <td>20955.6</td>\n",
       "      <td>68034.8</td>\n",
       "    </tr>\n",
       "    <tr>\n",
       "      <th>3</th>\n",
       "      <td>237</td>\n",
       "      <td>bengkulubangka belitungKalimantan TengahSulawe...</td>\n",
       "      <td>3056357</td>\n",
       "      <td>808664</td>\n",
       "      <td>476997</td>\n",
       "      <td>726987</td>\n",
       "      <td>4295030</td>\n",
       "      <td>2864.02</td>\n",
       "      <td>9087.3</td>\n",
       "      <td>34005.1</td>\n",
       "    </tr>\n",
       "  </tbody>\n",
       "</table>\n",
       "</div>"
      ],
      "text/plain": [
       "          No                                           Provinsi  Tangki (Y)  \\\n",
       "Klaster                                                                       \n",
       "1        102  sumatera Utarakepulauan riausumatera Selatanla...    26393012   \n",
       "2        126  Acehsumatera BaratjambiyogyakartaBaliKalimanta...     6568797   \n",
       "3        237  bengkulubangka belitungKalimantan TengahSulawe...     3056357   \n",
       "\n",
       "           mopen      bus     truk    sepmor       GAS      BBM  Penduduk  \n",
       "Klaster                                                                    \n",
       "1        5158789  1257773  2624755  22594369  21703.75  43711.4  117772.3  \n",
       "2        2312555   449534  1082660  13212662   7485.27  20955.6   68034.8  \n",
       "3         808664   476997   726987   4295030   2864.02   9087.3   34005.1  "
      ]
     },
     "execution_count": 291,
     "metadata": {},
     "output_type": "execute_result"
    }
   ],
   "source": [
    "kelompok.sum() #total masing-masing kelompok"
   ]
  },
  {
   "cell_type": "code",
   "execution_count": 289,
   "id": "4d86cc0c",
   "metadata": {},
   "outputs": [
    {
     "data": {
      "text/plain": [
       "Klaster\n",
       "1    2.639301e+06\n",
       "2    7.298663e+05\n",
       "3    2.778506e+05\n",
       "Name: Tangki (Y), dtype: float64"
      ]
     },
     "execution_count": 289,
     "metadata": {},
     "output_type": "execute_result"
    }
   ],
   "source": [
    "kelompok['Tangki (Y)'].mean() #rata-rata masing-masing kelompok dengan variabel Tangki(Y)"
   ]
  },
  {
   "cell_type": "code",
   "execution_count": 292,
   "id": "492df23c",
   "metadata": {},
   "outputs": [
    {
     "data": {
      "text/html": [
       "<div>\n",
       "<style scoped>\n",
       "    .dataframe tbody tr th:only-of-type {\n",
       "        vertical-align: middle;\n",
       "    }\n",
       "\n",
       "    .dataframe tbody tr th {\n",
       "        vertical-align: top;\n",
       "    }\n",
       "\n",
       "    .dataframe thead tr th {\n",
       "        text-align: left;\n",
       "    }\n",
       "\n",
       "    .dataframe thead tr:last-of-type th {\n",
       "        text-align: right;\n",
       "    }\n",
       "</style>\n",
       "<table border=\"1\" class=\"dataframe\">\n",
       "  <thead>\n",
       "    <tr>\n",
       "      <th></th>\n",
       "      <th colspan=\"8\" halign=\"left\">No</th>\n",
       "      <th colspan=\"2\" halign=\"left\">Tangki (Y)</th>\n",
       "      <th>...</th>\n",
       "      <th colspan=\"2\" halign=\"left\">BBM</th>\n",
       "      <th colspan=\"8\" halign=\"left\">Penduduk</th>\n",
       "    </tr>\n",
       "    <tr>\n",
       "      <th></th>\n",
       "      <th>count</th>\n",
       "      <th>mean</th>\n",
       "      <th>std</th>\n",
       "      <th>min</th>\n",
       "      <th>25%</th>\n",
       "      <th>50%</th>\n",
       "      <th>75%</th>\n",
       "      <th>max</th>\n",
       "      <th>count</th>\n",
       "      <th>mean</th>\n",
       "      <th>...</th>\n",
       "      <th>75%</th>\n",
       "      <th>max</th>\n",
       "      <th>count</th>\n",
       "      <th>mean</th>\n",
       "      <th>std</th>\n",
       "      <th>min</th>\n",
       "      <th>25%</th>\n",
       "      <th>50%</th>\n",
       "      <th>75%</th>\n",
       "      <th>max</th>\n",
       "    </tr>\n",
       "    <tr>\n",
       "      <th>Klaster</th>\n",
       "      <th></th>\n",
       "      <th></th>\n",
       "      <th></th>\n",
       "      <th></th>\n",
       "      <th></th>\n",
       "      <th></th>\n",
       "      <th></th>\n",
       "      <th></th>\n",
       "      <th></th>\n",
       "      <th></th>\n",
       "      <th></th>\n",
       "      <th></th>\n",
       "      <th></th>\n",
       "      <th></th>\n",
       "      <th></th>\n",
       "      <th></th>\n",
       "      <th></th>\n",
       "      <th></th>\n",
       "      <th></th>\n",
       "      <th></th>\n",
       "      <th></th>\n",
       "    </tr>\n",
       "  </thead>\n",
       "  <tbody>\n",
       "    <tr>\n",
       "      <th>1</th>\n",
       "      <td>10.0</td>\n",
       "      <td>10.200000</td>\n",
       "      <td>5.633235</td>\n",
       "      <td>2.0</td>\n",
       "      <td>6.0</td>\n",
       "      <td>10.5</td>\n",
       "      <td>12.75</td>\n",
       "      <td>21.0</td>\n",
       "      <td>10.0</td>\n",
       "      <td>2.639301e+06</td>\n",
       "      <td>...</td>\n",
       "      <td>5283.8</td>\n",
       "      <td>17157.9</td>\n",
       "      <td>10.0</td>\n",
       "      <td>11777.230000</td>\n",
       "      <td>13092.206485</td>\n",
       "      <td>972.1</td>\n",
       "      <td>3251.9</td>\n",
       "      <td>7427.95</td>\n",
       "      <td>11667.3</td>\n",
       "      <td>39115.3</td>\n",
       "    </tr>\n",
       "    <tr>\n",
       "      <th>2</th>\n",
       "      <td>9.0</td>\n",
       "      <td>14.000000</td>\n",
       "      <td>9.246621</td>\n",
       "      <td>1.0</td>\n",
       "      <td>6.0</td>\n",
       "      <td>16.0</td>\n",
       "      <td>19.00</td>\n",
       "      <td>30.0</td>\n",
       "      <td>9.0</td>\n",
       "      <td>7.298663e+05</td>\n",
       "      <td>...</td>\n",
       "      <td>1473.9</td>\n",
       "      <td>10891.3</td>\n",
       "      <td>9.0</td>\n",
       "      <td>7559.422222</td>\n",
       "      <td>10576.039418</td>\n",
       "      <td>2144.5</td>\n",
       "      <td>3375.1</td>\n",
       "      <td>4355.70</td>\n",
       "      <td>4935.3</td>\n",
       "      <td>35528.6</td>\n",
       "    </tr>\n",
       "    <tr>\n",
       "      <th>3</th>\n",
       "      <td>11.0</td>\n",
       "      <td>21.545455</td>\n",
       "      <td>7.581077</td>\n",
       "      <td>7.0</td>\n",
       "      <td>20.0</td>\n",
       "      <td>24.0</td>\n",
       "      <td>26.50</td>\n",
       "      <td>29.0</td>\n",
       "      <td>11.0</td>\n",
       "      <td>2.778506e+05</td>\n",
       "      <td>...</td>\n",
       "      <td>1112.3</td>\n",
       "      <td>2360.3</td>\n",
       "      <td>11.0</td>\n",
       "      <td>3091.372727</td>\n",
       "      <td>2560.157823</td>\n",
       "      <td>870.7</td>\n",
       "      <td>1443.3</td>\n",
       "      <td>2140.00</td>\n",
       "      <td>3470.3</td>\n",
       "      <td>8490.4</td>\n",
       "    </tr>\n",
       "  </tbody>\n",
       "</table>\n",
       "<p>3 rows × 72 columns</p>\n",
       "</div>"
      ],
      "text/plain": [
       "           No                                                    Tangki (Y)  \\\n",
       "        count       mean       std  min   25%   50%    75%   max      count   \n",
       "Klaster                                                                       \n",
       "1        10.0  10.200000  5.633235  2.0   6.0  10.5  12.75  21.0       10.0   \n",
       "2         9.0  14.000000  9.246621  1.0   6.0  16.0  19.00  30.0        9.0   \n",
       "3        11.0  21.545455  7.581077  7.0  20.0  24.0  26.50  29.0       11.0   \n",
       "\n",
       "                       ...     BBM          Penduduk                \\\n",
       "                 mean  ...     75%      max    count          mean   \n",
       "Klaster                ...                                           \n",
       "1        2.639301e+06  ...  5283.8  17157.9     10.0  11777.230000   \n",
       "2        7.298663e+05  ...  1473.9  10891.3      9.0   7559.422222   \n",
       "3        2.778506e+05  ...  1112.3   2360.3     11.0   3091.372727   \n",
       "\n",
       "                                                                  \n",
       "                  std     min     25%      50%      75%      max  \n",
       "Klaster                                                           \n",
       "1        13092.206485   972.1  3251.9  7427.95  11667.3  39115.3  \n",
       "2        10576.039418  2144.5  3375.1  4355.70   4935.3  35528.6  \n",
       "3         2560.157823   870.7  1443.3  2140.00   3470.3   8490.4  \n",
       "\n",
       "[3 rows x 72 columns]"
      ]
     },
     "execution_count": 292,
     "metadata": {},
     "output_type": "execute_result"
    }
   ],
   "source": [
    "kelompok.describe() #statistik deskriptif data yang telah dikelompokkan"
   ]
  },
  {
   "cell_type": "code",
   "execution_count": 293,
   "id": "bed62d8f",
   "metadata": {},
   "outputs": [
    {
     "data": {
      "text/html": [
       "<div>\n",
       "<style scoped>\n",
       "    .dataframe tbody tr th:only-of-type {\n",
       "        vertical-align: middle;\n",
       "    }\n",
       "\n",
       "    .dataframe tbody tr th {\n",
       "        vertical-align: top;\n",
       "    }\n",
       "\n",
       "    .dataframe thead th {\n",
       "        text-align: right;\n",
       "    }\n",
       "</style>\n",
       "<table border=\"1\" class=\"dataframe\">\n",
       "  <thead>\n",
       "    <tr style=\"text-align: right;\">\n",
       "      <th></th>\n",
       "      <th>count</th>\n",
       "      <th>mean</th>\n",
       "      <th>std</th>\n",
       "      <th>min</th>\n",
       "      <th>25%</th>\n",
       "      <th>50%</th>\n",
       "      <th>75%</th>\n",
       "      <th>max</th>\n",
       "    </tr>\n",
       "    <tr>\n",
       "      <th>Klaster</th>\n",
       "      <th></th>\n",
       "      <th></th>\n",
       "      <th></th>\n",
       "      <th></th>\n",
       "      <th></th>\n",
       "      <th></th>\n",
       "      <th></th>\n",
       "      <th></th>\n",
       "    </tr>\n",
       "  </thead>\n",
       "  <tbody>\n",
       "    <tr>\n",
       "      <th>1</th>\n",
       "      <td>10.0</td>\n",
       "      <td>515878.900000</td>\n",
       "      <td>925573.734757</td>\n",
       "      <td>8941.0</td>\n",
       "      <td>84327.25</td>\n",
       "      <td>244316.5</td>\n",
       "      <td>429065.5</td>\n",
       "      <td>3104773.0</td>\n",
       "    </tr>\n",
       "    <tr>\n",
       "      <th>2</th>\n",
       "      <td>9.0</td>\n",
       "      <td>256950.555556</td>\n",
       "      <td>280578.870462</td>\n",
       "      <td>44812.0</td>\n",
       "      <td>64729.00</td>\n",
       "      <td>145868.0</td>\n",
       "      <td>327899.0</td>\n",
       "      <td>895810.0</td>\n",
       "    </tr>\n",
       "    <tr>\n",
       "      <th>3</th>\n",
       "      <td>11.0</td>\n",
       "      <td>73514.909091</td>\n",
       "      <td>71095.227395</td>\n",
       "      <td>143.0</td>\n",
       "      <td>26221.50</td>\n",
       "      <td>49905.0</td>\n",
       "      <td>101021.0</td>\n",
       "      <td>232166.0</td>\n",
       "    </tr>\n",
       "  </tbody>\n",
       "</table>\n",
       "</div>"
      ],
      "text/plain": [
       "         count           mean            std      min       25%       50%  \\\n",
       "Klaster                                                                     \n",
       "1         10.0  515878.900000  925573.734757   8941.0  84327.25  244316.5   \n",
       "2          9.0  256950.555556  280578.870462  44812.0  64729.00  145868.0   \n",
       "3         11.0   73514.909091   71095.227395    143.0  26221.50   49905.0   \n",
       "\n",
       "              75%        max  \n",
       "Klaster                       \n",
       "1        429065.5  3104773.0  \n",
       "2        327899.0   895810.0  \n",
       "3        101021.0   232166.0  "
      ]
     },
     "execution_count": 293,
     "metadata": {},
     "output_type": "execute_result"
    }
   ],
   "source": [
    "kelompok['mopen'].describe() #statistik deskriptif khusus variabel mopen"
   ]
  },
  {
   "cell_type": "code",
   "execution_count": 294,
   "id": "aa9ad703",
   "metadata": {},
   "outputs": [
    {
     "ename": "NameError",
     "evalue": "name 'df3_one' is not defined",
     "output_type": "error",
     "traceback": [
      "\u001b[1;31m---------------------------------------------------------------------------\u001b[0m",
      "\u001b[1;31mNameError\u001b[0m                                 Traceback (most recent call last)",
      "Cell \u001b[1;32mIn[294], line 2\u001b[0m\n\u001b[0;32m      1\u001b[0m \u001b[38;5;66;03m#SORTING\u001b[39;00m\n\u001b[1;32m----> 2\u001b[0m df3_one\n",
      "\u001b[1;31mNameError\u001b[0m: name 'df3_one' is not defined"
     ]
    }
   ],
   "source": []
  },
  {
   "cell_type": "code",
   "execution_count": 306,
   "id": "25354bd3",
   "metadata": {},
   "outputs": [
    {
     "ename": "ImportError",
     "evalue": "html5lib not found, please install it",
     "output_type": "error",
     "traceback": [
      "\u001b[1;31m---------------------------------------------------------------------------\u001b[0m",
      "\u001b[1;31mImportError\u001b[0m                               Traceback (most recent call last)",
      "Cell \u001b[1;32mIn[306], line 2\u001b[0m\n\u001b[0;32m      1\u001b[0m \u001b[38;5;66;03m#read html\u001b[39;00m\n\u001b[1;32m----> 2\u001b[0m table\u001b[38;5;241m=\u001b[39mpd\u001b[38;5;241m.\u001b[39mread_html(\u001b[38;5;124m'\u001b[39m\u001b[38;5;124mhttps://www.kaggle.com/datasets/rajanand/crime-in-india\u001b[39m\u001b[38;5;124m'\u001b[39m)\n",
      "File \u001b[1;32mC:\\ProgramData\\anaconda3\\Lib\\site-packages\\pandas\\io\\html.py:1212\u001b[0m, in \u001b[0;36mread_html\u001b[1;34m(io, match, flavor, header, index_col, skiprows, attrs, parse_dates, thousands, encoding, decimal, converters, na_values, keep_default_na, displayed_only, extract_links, dtype_backend)\u001b[0m\n\u001b[0;32m   1208\u001b[0m check_dtype_backend(dtype_backend)\n\u001b[0;32m   1210\u001b[0m io \u001b[38;5;241m=\u001b[39m stringify_path(io)\n\u001b[1;32m-> 1212\u001b[0m \u001b[38;5;28;01mreturn\u001b[39;00m _parse(\n\u001b[0;32m   1213\u001b[0m     flavor\u001b[38;5;241m=\u001b[39mflavor,\n\u001b[0;32m   1214\u001b[0m     io\u001b[38;5;241m=\u001b[39mio,\n\u001b[0;32m   1215\u001b[0m     match\u001b[38;5;241m=\u001b[39mmatch,\n\u001b[0;32m   1216\u001b[0m     header\u001b[38;5;241m=\u001b[39mheader,\n\u001b[0;32m   1217\u001b[0m     index_col\u001b[38;5;241m=\u001b[39mindex_col,\n\u001b[0;32m   1218\u001b[0m     skiprows\u001b[38;5;241m=\u001b[39mskiprows,\n\u001b[0;32m   1219\u001b[0m     parse_dates\u001b[38;5;241m=\u001b[39mparse_dates,\n\u001b[0;32m   1220\u001b[0m     thousands\u001b[38;5;241m=\u001b[39mthousands,\n\u001b[0;32m   1221\u001b[0m     attrs\u001b[38;5;241m=\u001b[39mattrs,\n\u001b[0;32m   1222\u001b[0m     encoding\u001b[38;5;241m=\u001b[39mencoding,\n\u001b[0;32m   1223\u001b[0m     decimal\u001b[38;5;241m=\u001b[39mdecimal,\n\u001b[0;32m   1224\u001b[0m     converters\u001b[38;5;241m=\u001b[39mconverters,\n\u001b[0;32m   1225\u001b[0m     na_values\u001b[38;5;241m=\u001b[39mna_values,\n\u001b[0;32m   1226\u001b[0m     keep_default_na\u001b[38;5;241m=\u001b[39mkeep_default_na,\n\u001b[0;32m   1227\u001b[0m     displayed_only\u001b[38;5;241m=\u001b[39mdisplayed_only,\n\u001b[0;32m   1228\u001b[0m     extract_links\u001b[38;5;241m=\u001b[39mextract_links,\n\u001b[0;32m   1229\u001b[0m     dtype_backend\u001b[38;5;241m=\u001b[39mdtype_backend,\n\u001b[0;32m   1230\u001b[0m )\n",
      "File \u001b[1;32mC:\\ProgramData\\anaconda3\\Lib\\site-packages\\pandas\\io\\html.py:977\u001b[0m, in \u001b[0;36m_parse\u001b[1;34m(flavor, io, match, attrs, encoding, displayed_only, extract_links, **kwargs)\u001b[0m\n\u001b[0;32m    975\u001b[0m retained \u001b[38;5;241m=\u001b[39m \u001b[38;5;28;01mNone\u001b[39;00m\n\u001b[0;32m    976\u001b[0m \u001b[38;5;28;01mfor\u001b[39;00m flav \u001b[38;5;129;01min\u001b[39;00m flavor:\n\u001b[1;32m--> 977\u001b[0m     parser \u001b[38;5;241m=\u001b[39m _parser_dispatch(flav)\n\u001b[0;32m    978\u001b[0m     p \u001b[38;5;241m=\u001b[39m parser(io, compiled_match, attrs, encoding, displayed_only, extract_links)\n\u001b[0;32m    980\u001b[0m     \u001b[38;5;28;01mtry\u001b[39;00m:\n",
      "File \u001b[1;32mC:\\ProgramData\\anaconda3\\Lib\\site-packages\\pandas\\io\\html.py:926\u001b[0m, in \u001b[0;36m_parser_dispatch\u001b[1;34m(flavor)\u001b[0m\n\u001b[0;32m    924\u001b[0m \u001b[38;5;28;01mif\u001b[39;00m flavor \u001b[38;5;129;01min\u001b[39;00m (\u001b[38;5;124m\"\u001b[39m\u001b[38;5;124mbs4\u001b[39m\u001b[38;5;124m\"\u001b[39m, \u001b[38;5;124m\"\u001b[39m\u001b[38;5;124mhtml5lib\u001b[39m\u001b[38;5;124m\"\u001b[39m):\n\u001b[0;32m    925\u001b[0m     \u001b[38;5;28;01mif\u001b[39;00m \u001b[38;5;129;01mnot\u001b[39;00m _HAS_HTML5LIB:\n\u001b[1;32m--> 926\u001b[0m         \u001b[38;5;28;01mraise\u001b[39;00m \u001b[38;5;167;01mImportError\u001b[39;00m(\u001b[38;5;124m\"\u001b[39m\u001b[38;5;124mhtml5lib not found, please install it\u001b[39m\u001b[38;5;124m\"\u001b[39m)\n\u001b[0;32m    927\u001b[0m     \u001b[38;5;28;01mif\u001b[39;00m \u001b[38;5;129;01mnot\u001b[39;00m _HAS_BS4:\n\u001b[0;32m    928\u001b[0m         \u001b[38;5;28;01mraise\u001b[39;00m \u001b[38;5;167;01mImportError\u001b[39;00m(\u001b[38;5;124m\"\u001b[39m\u001b[38;5;124mBeautifulSoup4 (bs4) not found, please install it\u001b[39m\u001b[38;5;124m\"\u001b[39m)\n",
      "\u001b[1;31mImportError\u001b[0m: html5lib not found, please install it"
     ]
    }
   ],
   "source": [
    "#read html\n",
    "table=pd.read_html('https://www.kaggle.com/datasets/rajanand/crime-in-india')"
   ]
  },
  {
   "cell_type": "code",
   "execution_count": 304,
   "id": "d8824dff",
   "metadata": {},
   "outputs": [
    {
     "name": "stdout",
     "output_type": "stream",
     "text": [
      "Defaulting to user installation because normal site-packages is not writeable\n",
      "Requirement already satisfied: pip in c:\\programdata\\anaconda3\\lib\\site-packages (23.2.1)\n",
      "Collecting pip\n",
      "  Obtaining dependency information for pip from https://files.pythonhosted.org/packages/47/6a/453160888fab7c6a432a6e25f8afe6256d0d9f2cbd25971021da6491d899/pip-23.3.1-py3-none-any.whl.metadata\n",
      "  Downloading pip-23.3.1-py3-none-any.whl.metadata (3.5 kB)\n",
      "Downloading pip-23.3.1-py3-none-any.whl (2.1 MB)\n",
      "   ---------------------------------------- 0.0/2.1 MB ? eta -:--:--\n",
      "   ---------------------------------------- 0.0/2.1 MB ? eta -:--:--\n",
      "   ---------------------------------------- 0.0/2.1 MB ? eta -:--:--\n",
      "    --------------------------------------- 0.0/2.1 MB 487.6 kB/s eta 0:00:05\n",
      "   - -------------------------------------- 0.1/2.1 MB 544.7 kB/s eta 0:00:04\n",
      "   -- ------------------------------------- 0.1/2.1 MB 847.9 kB/s eta 0:00:03\n",
      "   --- ------------------------------------ 0.2/2.1 MB 908.0 kB/s eta 0:00:03\n",
      "   ------ --------------------------------- 0.3/2.1 MB 1.2 MB/s eta 0:00:02\n",
      "   -------- ------------------------------- 0.5/2.1 MB 1.5 MB/s eta 0:00:02\n",
      "   --------- ------------------------------ 0.5/2.1 MB 1.5 MB/s eta 0:00:02\n",
      "   ------------- -------------------------- 0.7/2.1 MB 1.8 MB/s eta 0:00:01\n",
      "   ------------- -------------------------- 0.7/2.1 MB 1.7 MB/s eta 0:00:01\n",
      "   ----------------- ---------------------- 0.9/2.1 MB 1.9 MB/s eta 0:00:01\n",
      "   ------------------ --------------------- 1.0/2.1 MB 1.8 MB/s eta 0:00:01\n",
      "   -------------------- ------------------- 1.1/2.1 MB 1.9 MB/s eta 0:00:01\n",
      "   ---------------------- ----------------- 1.2/2.1 MB 1.8 MB/s eta 0:00:01\n",
      "   ---------------------- ----------------- 1.2/2.1 MB 1.8 MB/s eta 0:00:01\n",
      "   ---------------------- ----------------- 1.2/2.1 MB 1.8 MB/s eta 0:00:01\n",
      "   ------------------------ --------------- 1.3/2.1 MB 1.6 MB/s eta 0:00:01\n",
      "   --------------------------- ------------ 1.4/2.1 MB 1.8 MB/s eta 0:00:01\n",
      "   ---------------------------- ----------- 1.5/2.1 MB 1.7 MB/s eta 0:00:01\n",
      "   ----------------------------- ---------- 1.5/2.1 MB 1.8 MB/s eta 0:00:01\n",
      "   ------------------------------- -------- 1.7/2.1 MB 1.8 MB/s eta 0:00:01\n",
      "   --------------------------------- ------ 1.8/2.1 MB 1.8 MB/s eta 0:00:01\n",
      "   ------------------------------------ --- 1.9/2.1 MB 1.9 MB/s eta 0:00:01\n",
      "   ---------------------------------------  2.1/2.1 MB 1.9 MB/s eta 0:00:01\n",
      "   ---------------------------------------  2.1/2.1 MB 1.9 MB/s eta 0:00:01\n",
      "   ---------------------------------------- 2.1/2.1 MB 1.8 MB/s eta 0:00:00\n",
      "Installing collected packages: pip\n",
      "Successfully installed pip-23.3.1\n",
      "Note: you may need to restart the kernel to use updated packages.\n"
     ]
    },
    {
     "name": "stderr",
     "output_type": "stream",
     "text": [
      "  WARNING: The scripts pip.exe, pip3.11.exe and pip3.exe are installed in 'C:\\Users\\alfar\\AppData\\Roaming\\Python\\Python311\\Scripts' which is not on PATH.\n",
      "  Consider adding this directory to PATH or, if you prefer to suppress this warning, use --no-warn-script-location.\n"
     ]
    }
   ],
   "source": [
    "pip install --upgrade pip"
   ]
  },
  {
   "cell_type": "code",
   "execution_count": 310,
   "id": "f18227ae",
   "metadata": {},
   "outputs": [
    {
     "ename": "SyntaxError",
     "evalue": "invalid syntax (3443369364.py, line 1)",
     "output_type": "error",
     "traceback": [
      "\u001b[1;36m  Cell \u001b[1;32mIn[310], line 1\u001b[1;36m\u001b[0m\n\u001b[1;33m    -m pip install html5lib\u001b[0m\n\u001b[1;37m       ^\u001b[0m\n\u001b[1;31mSyntaxError\u001b[0m\u001b[1;31m:\u001b[0m invalid syntax\n"
     ]
    }
   ],
   "source": [
    "-m pip install html5lib"
   ]
  },
  {
   "cell_type": "code",
   "execution_count": null,
   "id": "c328efd3",
   "metadata": {},
   "outputs": [],
   "source": []
  },
  {
   "cell_type": "code",
   "execution_count": null,
   "id": "be32e2d9",
   "metadata": {},
   "outputs": [],
   "source": []
  }
 ],
 "metadata": {
  "kernelspec": {
   "display_name": "Python 3 (ipykernel)",
   "language": "python",
   "name": "python3"
  },
  "language_info": {
   "codemirror_mode": {
    "name": "ipython",
    "version": 3
   },
   "file_extension": ".py",
   "mimetype": "text/x-python",
   "name": "python",
   "nbconvert_exporter": "python",
   "pygments_lexer": "ipython3",
   "version": "3.11.5"
  }
 },
 "nbformat": 4,
 "nbformat_minor": 5
}
