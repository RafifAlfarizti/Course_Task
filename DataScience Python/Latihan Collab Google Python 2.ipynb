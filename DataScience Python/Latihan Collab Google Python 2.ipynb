{
 "cells": [
  {
   "cell_type": "code",
   "execution_count": null,
   "id": "5126e831",
   "metadata": {},
   "outputs": [],
   "source": [
    "#BAB 4 Type Data"
   ]
  },
  {
   "cell_type": "code",
   "execution_count": 1,
   "id": "93ac3daa",
   "metadata": {},
   "outputs": [],
   "source": [
    "#List menggunakan []\n",
    "#Set menggunakan {} tidak memiliki indeks\n",
    "#Tuple menggunakan ()\n",
    "#Dictionary menggunakan ({})"
   ]
  },
  {
   "cell_type": "code",
   "execution_count": 3,
   "id": "d3e112b2",
   "metadata": {},
   "outputs": [
    {
     "name": "stdout",
     "output_type": "stream",
     "text": [
      "[1, 2, 'home', True]\n",
      "[]\n",
      "[1, 2, 3]\n"
     ]
    }
   ],
   "source": [
    "lis1=[1,2,\"home\",True] #setiap list diawali dengan kurung siku\n",
    "lis2=[]\n",
    "lis3=list((1,2,3)) #jika seperti ini maka kurung biasa 2 kali\n",
    "\n",
    "print(lis1)\n",
    "print(lis2)\n",
    "print(lis3)"
   ]
  },
  {
   "cell_type": "code",
   "execution_count": 4,
   "id": "548e6466",
   "metadata": {},
   "outputs": [
    {
     "name": "stdout",
     "output_type": "stream",
     "text": [
      "[1, 2, 'tiga']\n"
     ]
    }
   ],
   "source": [
    "lis4=list((1,2,\"tiga\"))\n",
    "print(lis4)"
   ]
  },
  {
   "cell_type": "code",
   "execution_count": 6,
   "id": "a297250d",
   "metadata": {},
   "outputs": [
    {
     "name": "stdout",
     "output_type": "stream",
     "text": [
      "1\n",
      "3\n",
      "tiga\n"
     ]
    }
   ],
   "source": [
    "print(lis1[0])\n",
    "print(lis3[2])\n",
    "print(lis4[-1])"
   ]
  },
  {
   "cell_type": "code",
   "execution_count": 7,
   "id": "e64e7a15",
   "metadata": {},
   "outputs": [
    {
     "name": "stdout",
     "output_type": "stream",
     "text": [
      "[12, 2, 'home', True]\n"
     ]
    }
   ],
   "source": [
    "lis1[0]=12\n",
    "print(lis1)"
   ]
  },
  {
   "cell_type": "code",
   "execution_count": 9,
   "id": "5fd16323",
   "metadata": {},
   "outputs": [
    {
     "name": "stdout",
     "output_type": "stream",
     "text": [
      "(2, 3, 4, 5)\n",
      "enam\n"
     ]
    }
   ],
   "source": [
    "tuple1=tuple((2,3,4,5))\n",
    "tuple2=(3,4,5,\"enam\")\n",
    "\n",
    "print(tuple1)\n",
    "print(tuple2[-1])"
   ]
  },
  {
   "cell_type": "code",
   "execution_count": 10,
   "id": "18029f1c",
   "metadata": {},
   "outputs": [
    {
     "ename": "TypeError",
     "evalue": "'tuple' object does not support item assignment",
     "output_type": "error",
     "traceback": [
      "\u001b[1;31m---------------------------------------------------------------------------\u001b[0m",
      "\u001b[1;31mTypeError\u001b[0m                                 Traceback (most recent call last)",
      "Cell \u001b[1;32mIn[10], line 1\u001b[0m\n\u001b[1;32m----> 1\u001b[0m tuple2[\u001b[38;5;241m2\u001b[39m]\u001b[38;5;241m=\u001b[39m\u001b[38;5;241m7\u001b[39m\n",
      "\u001b[1;31mTypeError\u001b[0m: 'tuple' object does not support item assignment"
     ]
    }
   ],
   "source": [
    "tuple2[2]=7 #tuple tidak bisa diubah lagi"
   ]
  },
  {
   "cell_type": "code",
   "execution_count": 11,
   "id": "45ecf6de",
   "metadata": {},
   "outputs": [
    {
     "name": "stdout",
     "output_type": "stream",
     "text": [
      "{1, 2, 3, 9}\n"
     ]
    }
   ],
   "source": [
    "set1={1,2,2,3,9} #tidak bisa bernilai duplikat\n",
    "print(set1)"
   ]
  },
  {
   "cell_type": "code",
   "execution_count": 13,
   "id": "cbeabe8a",
   "metadata": {},
   "outputs": [
    {
     "name": "stdout",
     "output_type": "stream",
     "text": [
      "{1: 'Apel', 2: 'Semangka', 3: 'Pepaya', 4: 'Jeruk'}\n"
     ]
    }
   ],
   "source": [
    "dict1=dict({1:\"Apel\",2:\"Semangka\",3:\"Pepaya\",4:\"Jeruk\"})\n",
    "print(dict1)"
   ]
  },
  {
   "cell_type": "code",
   "execution_count": 15,
   "id": "bbdf577b",
   "metadata": {},
   "outputs": [
    {
     "name": "stdout",
     "output_type": "stream",
     "text": [
      "dict_keys([1, 2, 3, 4])\n",
      "dict_values(['Apel', 'Semangka', 'Pepaya', 'Jeruk'])\n"
     ]
    }
   ],
   "source": [
    "#keys dan values\n",
    "print(dict1.keys())\n",
    "print(dict1.values())"
   ]
  },
  {
   "cell_type": "code",
   "execution_count": 16,
   "id": "d0192c9b",
   "metadata": {},
   "outputs": [
    {
     "name": "stdout",
     "output_type": "stream",
     "text": [
      "{1: 'Anggur', 2: 'Semangka', 3: 'Pepaya', 4: 'Jeruk'}\n"
     ]
    }
   ],
   "source": [
    "dict1[1]=\"Anggur\" #mengganti values dengan key=1\n",
    "print(dict1)"
   ]
  },
  {
   "cell_type": "code",
   "execution_count": 17,
   "id": "3bf0033d",
   "metadata": {},
   "outputs": [
    {
     "name": "stdout",
     "output_type": "stream",
     "text": [
      "{1: 'Anggur', 2: 'Semangka', 3: 'Pepaya', 4: 'Jeruk', 'Semangka': 5}\n"
     ]
    }
   ],
   "source": [
    "dict1[\"Semangka\"]=5 \n",
    "print(dict1)"
   ]
  },
  {
   "cell_type": "code",
   "execution_count": 23,
   "id": "16413523",
   "metadata": {},
   "outputs": [
    {
     "name": "stdout",
     "output_type": "stream",
     "text": [
      "False\n",
      "True\n"
     ]
    }
   ],
   "source": [
    "a=12\n",
    "b=15\n",
    "print(a==b)\n",
    "print(a/b==0.8)"
   ]
  },
  {
   "cell_type": "code",
   "execution_count": 24,
   "id": "a53d7f17",
   "metadata": {},
   "outputs": [
    {
     "name": "stdout",
     "output_type": "stream",
     "text": [
      "0.8\n",
      "0\n"
     ]
    }
   ],
   "source": [
    "print(a/b) #hasil desimal yang sebenarnya\n",
    "print(a//b) #pembulatan ke bilangan yang lebigh rendah"
   ]
  },
  {
   "cell_type": "code",
   "execution_count": 30,
   "id": "9fb94aa5",
   "metadata": {},
   "outputs": [
    {
     "name": "stdout",
     "output_type": "stream",
     "text": [
      "4 6 6 4\n"
     ]
    }
   ],
   "source": [
    "p=3\n",
    "q=5\n",
    "#tentukan nilai dari \n",
    "p+=1 #print nya di akhir, bukan di sini\n",
    "q+=1\n",
    "print(p,q,q,p)"
   ]
  },
  {
   "cell_type": "code",
   "execution_count": 38,
   "id": "52b59b68",
   "metadata": {},
   "outputs": [
    {
     "name": "stdout",
     "output_type": "stream",
     "text": [
      "sedang\n"
     ]
    }
   ],
   "source": [
    "# IF CONDITIONAL\n",
    "temperatur=27\n",
    "if temperatur<=15: #if lalu kondisi 1:\n",
    "    print(\"dingin\")\n",
    "elif temperatur>15 and temperatur<30: #elif lalu kondisi 2\n",
    "    print(\"sedang\")\n",
    "else: print(\"panas\") #else lalu kondisi 3\n",
    "\n"
   ]
  },
  {
   "cell_type": "code",
   "execution_count": 1,
   "id": "590607ad",
   "metadata": {},
   "outputs": [
    {
     "name": "stdout",
     "output_type": "stream",
     "text": [
      "20\n",
      "18\n",
      "16\n",
      "14\n",
      "12\n",
      "10\n",
      "8\n",
      "6\n",
      "4\n",
      "2\n"
     ]
    }
   ],
   "source": [
    "i=20 #i=2. Selagi i>0 cetak nilai i dengan aturan  i-2 \n",
    "while i>0:\n",
    "    print(i)\n",
    "    i-=2"
   ]
  },
  {
   "cell_type": "code",
   "execution_count": 35,
   "id": "b5979239",
   "metadata": {},
   "outputs": [
    {
     "name": "stdout",
     "output_type": "stream",
     "text": [
      "1\n",
      "2\n"
     ]
    }
   ],
   "source": [
    "i=[1,2,3,4,5,6,7,8] #kesejajaran berpengaruh disini\n",
    "\n",
    "for j in i:\n",
    "    if (j==3):\n",
    "        break\n",
    "    print(j)"
   ]
  },
  {
   "cell_type": "code",
   "execution_count": 36,
   "id": "e5620fe0",
   "metadata": {},
   "outputs": [
    {
     "name": "stdout",
     "output_type": "stream",
     "text": [
      "1\n",
      "2\n",
      "1\n",
      "2\n",
      "3\n",
      "4\n",
      "6\n",
      "7\n",
      "8\n"
     ]
    }
   ],
   "source": [
    "l=[1,2,3,4,5,6,7,8] #kesejajaran berpengaruh disini\n",
    "\n",
    "for m in l:\n",
    "    if (m==3):\n",
    "        break\n",
    "    print(m)\n",
    "for m in l:\n",
    "    if (m==5):\n",
    "        continue\n",
    "    print(m) #melakukan 2 perintah"
   ]
  },
  {
   "cell_type": "code",
   "execution_count": 37,
   "id": "6f619aad",
   "metadata": {},
   "outputs": [
    {
     "name": "stdout",
     "output_type": "stream",
     "text": [
      "1\n",
      "2\n",
      "3\n",
      "4\n",
      "6\n",
      "7\n",
      "8\n"
     ]
    }
   ],
   "source": [
    "l=[1,2,3,4,5,6,7,8] #kesejajaran berpengaruh disini\n",
    "\n",
    "for m in l:\n",
    "    if (m==3):\n",
    "        break\n",
    "for m in l:\n",
    "    if (m==5):\n",
    "        continue\n",
    "    print(m) "
   ]
  },
  {
   "cell_type": "code",
   "execution_count": 43,
   "id": "10c56412",
   "metadata": {},
   "outputs": [],
   "source": [
    "#DEF FUNGSI\n",
    "def print_a():print(\"a\")"
   ]
  },
  {
   "cell_type": "code",
   "execution_count": 44,
   "id": "c868a290",
   "metadata": {},
   "outputs": [
    {
     "name": "stdout",
     "output_type": "stream",
     "text": [
      "a\n"
     ]
    }
   ],
   "source": [
    "print_a()"
   ]
  },
  {
   "cell_type": "code",
   "execution_count": 49,
   "id": "dcc00de4",
   "metadata": {},
   "outputs": [
    {
     "data": {
      "text/plain": [
       "array([[ 0,  1,  2,  3],\n",
       "       [ 4,  5,  6,  7],\n",
       "       [ 8,  9, 10, 11],\n",
       "       [12, 13, 14, 15]])"
      ]
     },
     "execution_count": 49,
     "metadata": {},
     "output_type": "execute_result"
    }
   ],
   "source": [
    "#Mencari row dan column dalam matrix\n",
    "ArrayA=np.arange(16)\n",
    "MatrixA=ArrayA.reshape(4,4)\n",
    "MatrixA"
   ]
  },
  {
   "cell_type": "code",
   "execution_count": 50,
   "id": "d1ee71db",
   "metadata": {},
   "outputs": [
    {
     "data": {
      "text/plain": [
       "array([0, 1, 2, 3])"
      ]
     },
     "execution_count": 50,
     "metadata": {},
     "output_type": "execute_result"
    }
   ],
   "source": [
    "row1=MatrixA[0,:]\n",
    "row1"
   ]
  },
  {
   "cell_type": "code",
   "execution_count": 52,
   "id": "6bd975cb",
   "metadata": {},
   "outputs": [
    {
     "data": {
      "text/plain": [
       "array([ 0,  4,  8, 12])"
      ]
     },
     "execution_count": 52,
     "metadata": {},
     "output_type": "execute_result"
    }
   ],
   "source": [
    "col1=MatrixA[:,0]\n",
    "col1"
   ]
  },
  {
   "cell_type": "code",
   "execution_count": 57,
   "id": "d1aa5e94",
   "metadata": {},
   "outputs": [
    {
     "name": "stdout",
     "output_type": "stream",
     "text": [
      "14\n",
      "6\n"
     ]
    }
   ],
   "source": [
    "#mencari elemen\n",
    "elemen6=MatrixA[1,2]\n",
    "elemen14=MatrixA[3,2]\n",
    "\n",
    "print(elemen14)\n",
    "print(elemen6)"
   ]
  },
  {
   "cell_type": "code",
   "execution_count": 59,
   "id": "e90bc468",
   "metadata": {},
   "outputs": [
    {
     "name": "stdout",
     "output_type": "stream",
     "text": [
      "[ 0  5 10 15]\n",
      "84\n"
     ]
    }
   ],
   "source": [
    "#Operasi elemen\n",
    "print(col1+row1)\n",
    "print(elemen6*elemen14)"
   ]
  },
  {
   "cell_type": "code",
   "execution_count": 60,
   "id": "0c28e039",
   "metadata": {},
   "outputs": [
    {
     "data": {
      "text/plain": [
       "array([ 0,  5, 10, 15])"
      ]
     },
     "execution_count": 60,
     "metadata": {},
     "output_type": "execute_result"
    }
   ],
   "source": [
    "col1+row1 #kalau tanpa print gini hasilnya array([])"
   ]
  },
  {
   "cell_type": "code",
   "execution_count": 70,
   "id": "fd314bed",
   "metadata": {},
   "outputs": [
    {
     "data": {
      "text/plain": [
       "20"
      ]
     },
     "execution_count": 70,
     "metadata": {},
     "output_type": "execute_result"
    }
   ],
   "source": [
    "elemen6+elemen14"
   ]
  },
  {
   "cell_type": "code",
   "execution_count": 66,
   "id": "d5054d3e",
   "metadata": {},
   "outputs": [
    {
     "data": {
      "text/plain": [
       "array([[ 0,  3,  6,  9],\n",
       "       [12, 15, 18, 21],\n",
       "       [24, 27, 30, 33],\n",
       "       [36, 39, 42, 45]])"
      ]
     },
     "execution_count": 66,
     "metadata": {},
     "output_type": "execute_result"
    }
   ],
   "source": [
    "#perkalian Matrix\n",
    "MatrixB=3*MatrixA #matrix dengan skalar\n",
    "MatrixB"
   ]
  },
  {
   "cell_type": "code",
   "execution_count": 67,
   "id": "ffc0cb28",
   "metadata": {},
   "outputs": [
    {
     "data": {
      "text/plain": [
       "array([[  0,   3,  12,  27],\n",
       "       [ 48,  75, 108, 147],\n",
       "       [192, 243, 300, 363],\n",
       "       [432, 507, 588, 675]])"
      ]
     },
     "execution_count": 67,
     "metadata": {},
     "output_type": "execute_result"
    }
   ],
   "source": [
    "MatrixA*MatrixB #matrix dengan matrix"
   ]
  },
  {
   "cell_type": "code",
   "execution_count": 71,
   "id": "9438acbf",
   "metadata": {},
   "outputs": [
    {
     "data": {
      "text/plain": [
       "array([[  0,  12,  48, 108],\n",
       "       [  0,  60, 144, 252],\n",
       "       [  0, 108, 240, 396],\n",
       "       [  0, 156, 336, 540]])"
      ]
     },
     "execution_count": 71,
     "metadata": {},
     "output_type": "execute_result"
    }
   ],
   "source": [
    "MatrixB*col1"
   ]
  },
  {
   "cell_type": "code",
   "execution_count": 72,
   "id": "b23d4746",
   "metadata": {},
   "outputs": [],
   "source": [
    "#DATA CLEANING DAN PREPROCESSING"
   ]
  },
  {
   "cell_type": "code",
   "execution_count": 74,
   "id": "3410d4a0",
   "metadata": {},
   "outputs": [],
   "source": [
    "import pandas as pd"
   ]
  },
  {
   "cell_type": "code",
   "execution_count": 86,
   "id": "07a63b67",
   "metadata": {},
   "outputs": [
    {
     "data": {
      "text/html": [
       "<div>\n",
       "<style scoped>\n",
       "    .dataframe tbody tr th:only-of-type {\n",
       "        vertical-align: middle;\n",
       "    }\n",
       "\n",
       "    .dataframe tbody tr th {\n",
       "        vertical-align: top;\n",
       "    }\n",
       "\n",
       "    .dataframe thead th {\n",
       "        text-align: right;\n",
       "    }\n",
       "</style>\n",
       "<table border=\"1\" class=\"dataframe\">\n",
       "  <thead>\n",
       "    <tr style=\"text-align: right;\">\n",
       "      <th></th>\n",
       "      <th>Nama</th>\n",
       "      <th>Nilai</th>\n",
       "    </tr>\n",
       "  </thead>\n",
       "  <tbody>\n",
       "    <tr>\n",
       "      <th>0</th>\n",
       "      <td>Rafif</td>\n",
       "      <td>100</td>\n",
       "    </tr>\n",
       "    <tr>\n",
       "      <th>1</th>\n",
       "      <td>Dzaky</td>\n",
       "      <td>90</td>\n",
       "    </tr>\n",
       "    <tr>\n",
       "      <th>2</th>\n",
       "      <td>Zhafran</td>\n",
       "      <td>80</td>\n",
       "    </tr>\n",
       "    <tr>\n",
       "      <th>3</th>\n",
       "      <td>Dzaky</td>\n",
       "      <td>90</td>\n",
       "    </tr>\n",
       "    <tr>\n",
       "      <th>4</th>\n",
       "      <td>Budy</td>\n",
       "      <td>90</td>\n",
       "    </tr>\n",
       "  </tbody>\n",
       "</table>\n",
       "</div>"
      ],
      "text/plain": [
       "      Nama  Nilai\n",
       "0    Rafif    100\n",
       "1    Dzaky     90\n",
       "2  Zhafran     80\n",
       "3    Dzaky     90\n",
       "4     Budy     90"
      ]
     },
     "execution_count": 86,
     "metadata": {},
     "output_type": "execute_result"
    }
   ],
   "source": [
    "data1={'Nama':['Rafif','Dzaky','Zhafran','Dzaky','Budy'],\n",
    "       'Nilai':[100,90,80,90,90]}\n",
    "Data1=pd.DataFrame(data1)\n",
    "Data1"
   ]
  },
  {
   "cell_type": "code",
   "execution_count": 87,
   "id": "58988ad3",
   "metadata": {},
   "outputs": [
    {
     "name": "stdout",
     "output_type": "stream",
     "text": [
      "0    False\n",
      "1    False\n",
      "2    False\n",
      "3     True\n",
      "4    False\n",
      "dtype: bool\n"
     ]
    }
   ],
   "source": [
    "#Mendeteksi duplikat \n",
    "print(Data1.duplicated())"
   ]
  },
  {
   "cell_type": "code",
   "execution_count": 90,
   "id": "7fbba6b3",
   "metadata": {},
   "outputs": [
    {
     "name": "stdout",
     "output_type": "stream",
     "text": [
      "      Nama  Nilai\n",
      "0    Rafif    100\n",
      "1    Dzaky     90\n",
      "2  Zhafran     80\n",
      "4     Budy     90\n"
     ]
    }
   ],
   "source": [
    "Data1.drop_duplicates(inplace=True) #menghapus data duplikat\n",
    "print(Data1)"
   ]
  },
  {
   "cell_type": "code",
   "execution_count": 91,
   "id": "7f6420fb",
   "metadata": {},
   "outputs": [
    {
     "data": {
      "text/html": [
       "<div>\n",
       "<style scoped>\n",
       "    .dataframe tbody tr th:only-of-type {\n",
       "        vertical-align: middle;\n",
       "    }\n",
       "\n",
       "    .dataframe tbody tr th {\n",
       "        vertical-align: top;\n",
       "    }\n",
       "\n",
       "    .dataframe thead th {\n",
       "        text-align: right;\n",
       "    }\n",
       "</style>\n",
       "<table border=\"1\" class=\"dataframe\">\n",
       "  <thead>\n",
       "    <tr style=\"text-align: right;\">\n",
       "      <th></th>\n",
       "      <th>Nama</th>\n",
       "      <th>Nilai</th>\n",
       "    </tr>\n",
       "  </thead>\n",
       "  <tbody>\n",
       "    <tr>\n",
       "      <th>0</th>\n",
       "      <td>Rafif</td>\n",
       "      <td>100</td>\n",
       "    </tr>\n",
       "    <tr>\n",
       "      <th>1</th>\n",
       "      <td>Dzaky</td>\n",
       "      <td>90</td>\n",
       "    </tr>\n",
       "    <tr>\n",
       "      <th>2</th>\n",
       "      <td>Zhafran</td>\n",
       "      <td>80</td>\n",
       "    </tr>\n",
       "    <tr>\n",
       "      <th>3</th>\n",
       "      <td>Dzaky</td>\n",
       "      <td>90</td>\n",
       "    </tr>\n",
       "    <tr>\n",
       "      <th>4</th>\n",
       "      <td>Budy</td>\n",
       "      <td>90</td>\n",
       "    </tr>\n",
       "    <tr>\n",
       "      <th>5</th>\n",
       "      <td>Johnson</td>\n",
       "      <td>60</td>\n",
       "    </tr>\n",
       "    <tr>\n",
       "      <th>6</th>\n",
       "      <td>Johnson</td>\n",
       "      <td>50</td>\n",
       "    </tr>\n",
       "  </tbody>\n",
       "</table>\n",
       "</div>"
      ],
      "text/plain": [
       "      Nama  Nilai\n",
       "0    Rafif    100\n",
       "1    Dzaky     90\n",
       "2  Zhafran     80\n",
       "3    Dzaky     90\n",
       "4     Budy     90\n",
       "5  Johnson     60\n",
       "6  Johnson     50"
      ]
     },
     "execution_count": 91,
     "metadata": {},
     "output_type": "execute_result"
    }
   ],
   "source": [
    "data2={'Nama':['Rafif','Dzaky','Zhafran','Dzaky','Budy','Johnson','Johnson'],\n",
    "       'Nilai':[100,90,80,90,90,60,50]}\n",
    "Data2=pd.DataFrame(data2)\n",
    "Data2"
   ]
  },
  {
   "cell_type": "code",
   "execution_count": 92,
   "id": "dc962858",
   "metadata": {},
   "outputs": [
    {
     "name": "stdout",
     "output_type": "stream",
     "text": [
      "0    False\n",
      "1    False\n",
      "2    False\n",
      "3     True\n",
      "4    False\n",
      "5    False\n",
      "6     True\n",
      "Name: Nama, dtype: bool\n"
     ]
    }
   ],
   "source": [
    "#Mendeteksi duplikat \n",
    "print(Data2['Nama'].duplicated())"
   ]
  },
  {
   "cell_type": "code",
   "execution_count": 95,
   "id": "5d6cf003",
   "metadata": {},
   "outputs": [
    {
     "name": "stdout",
     "output_type": "stream",
     "text": [
      "      Nama  Nilai\n",
      "0    Rafif    100\n",
      "1    Dzaky     90\n",
      "2  Zhafran     80\n",
      "3    Dzaky     90\n",
      "4     Budy     90\n",
      "5  Johnson     60\n",
      "6  Johnson     50\n"
     ]
    }
   ],
   "source": [
    "Data2['Nama'].drop_duplicates(inplace=True) #menghapus data duplikat tidak bisa\n",
    "print(Data2) "
   ]
  },
  {
   "cell_type": "code",
   "execution_count": 98,
   "id": "7afcb1d1",
   "metadata": {},
   "outputs": [
    {
     "data": {
      "text/html": [
       "<div>\n",
       "<style scoped>\n",
       "    .dataframe tbody tr th:only-of-type {\n",
       "        vertical-align: middle;\n",
       "    }\n",
       "\n",
       "    .dataframe tbody tr th {\n",
       "        vertical-align: top;\n",
       "    }\n",
       "\n",
       "    .dataframe thead th {\n",
       "        text-align: right;\n",
       "    }\n",
       "</style>\n",
       "<table border=\"1\" class=\"dataframe\">\n",
       "  <thead>\n",
       "    <tr style=\"text-align: right;\">\n",
       "      <th></th>\n",
       "      <th>Nilai</th>\n",
       "    </tr>\n",
       "  </thead>\n",
       "  <tbody>\n",
       "    <tr>\n",
       "      <th>0</th>\n",
       "      <td>90</td>\n",
       "    </tr>\n",
       "    <tr>\n",
       "      <th>1</th>\n",
       "      <td>89</td>\n",
       "    </tr>\n",
       "    <tr>\n",
       "      <th>2</th>\n",
       "      <td>82</td>\n",
       "    </tr>\n",
       "    <tr>\n",
       "      <th>3</th>\n",
       "      <td>87</td>\n",
       "    </tr>\n",
       "    <tr>\n",
       "      <th>4</th>\n",
       "      <td>84</td>\n",
       "    </tr>\n",
       "    <tr>\n",
       "      <th>5</th>\n",
       "      <td>91</td>\n",
       "    </tr>\n",
       "  </tbody>\n",
       "</table>\n",
       "</div>"
      ],
      "text/plain": [
       "   Nilai\n",
       "0     90\n",
       "1     89\n",
       "2     82\n",
       "3     87\n",
       "4     84\n",
       "5     91"
      ]
     },
     "execution_count": 98,
     "metadata": {},
     "output_type": "execute_result"
    }
   ],
   "source": [
    "data3={'Nilai':[90,89,82,87,84,91]}\n",
    "Data3=pd.DataFrame(data3)\n",
    "Data3"
   ]
  },
  {
   "cell_type": "code",
   "execution_count": 100,
   "id": "62c2cedf",
   "metadata": {},
   "outputs": [
    {
     "data": {
      "text/html": [
       "<div>\n",
       "<style scoped>\n",
       "    .dataframe tbody tr th:only-of-type {\n",
       "        vertical-align: middle;\n",
       "    }\n",
       "\n",
       "    .dataframe tbody tr th {\n",
       "        vertical-align: top;\n",
       "    }\n",
       "\n",
       "    .dataframe thead th {\n",
       "        text-align: right;\n",
       "    }\n",
       "</style>\n",
       "<table border=\"1\" class=\"dataframe\">\n",
       "  <thead>\n",
       "    <tr style=\"text-align: right;\">\n",
       "      <th></th>\n",
       "      <th>Nilai</th>\n",
       "    </tr>\n",
       "  </thead>\n",
       "  <tbody>\n",
       "    <tr>\n",
       "      <th>0</th>\n",
       "      <td>0.888889</td>\n",
       "    </tr>\n",
       "    <tr>\n",
       "      <th>1</th>\n",
       "      <td>0.777778</td>\n",
       "    </tr>\n",
       "    <tr>\n",
       "      <th>2</th>\n",
       "      <td>0.000000</td>\n",
       "    </tr>\n",
       "    <tr>\n",
       "      <th>3</th>\n",
       "      <td>0.555556</td>\n",
       "    </tr>\n",
       "    <tr>\n",
       "      <th>4</th>\n",
       "      <td>0.222222</td>\n",
       "    </tr>\n",
       "    <tr>\n",
       "      <th>5</th>\n",
       "      <td>1.000000</td>\n",
       "    </tr>\n",
       "  </tbody>\n",
       "</table>\n",
       "</div>"
      ],
      "text/plain": [
       "      Nilai\n",
       "0  0.888889\n",
       "1  0.777778\n",
       "2  0.000000\n",
       "3  0.555556\n",
       "4  0.222222\n",
       "5  1.000000"
      ]
     },
     "execution_count": 100,
     "metadata": {},
     "output_type": "execute_result"
    }
   ],
   "source": [
    "Data3_N=(Data3-Data3.min())/(Data3.max()-Data3.min()) #Normalisasi data\n",
    "Data3_N"
   ]
  },
  {
   "cell_type": "code",
   "execution_count": 101,
   "id": "2856b7bd",
   "metadata": {},
   "outputs": [
    {
     "data": {
      "text/html": [
       "<div>\n",
       "<style scoped>\n",
       "    .dataframe tbody tr th:only-of-type {\n",
       "        vertical-align: middle;\n",
       "    }\n",
       "\n",
       "    .dataframe tbody tr th {\n",
       "        vertical-align: top;\n",
       "    }\n",
       "\n",
       "    .dataframe thead th {\n",
       "        text-align: right;\n",
       "    }\n",
       "</style>\n",
       "<table border=\"1\" class=\"dataframe\">\n",
       "  <thead>\n",
       "    <tr style=\"text-align: right;\">\n",
       "      <th></th>\n",
       "      <th>Nilai</th>\n",
       "    </tr>\n",
       "  </thead>\n",
       "  <tbody>\n",
       "    <tr>\n",
       "      <th>0</th>\n",
       "      <td>90</td>\n",
       "    </tr>\n",
       "    <tr>\n",
       "      <th>1</th>\n",
       "      <td>89</td>\n",
       "    </tr>\n",
       "    <tr>\n",
       "      <th>2</th>\n",
       "      <td>82</td>\n",
       "    </tr>\n",
       "    <tr>\n",
       "      <th>3</th>\n",
       "      <td>87</td>\n",
       "    </tr>\n",
       "    <tr>\n",
       "      <th>4</th>\n",
       "      <td>84</td>\n",
       "    </tr>\n",
       "    <tr>\n",
       "      <th>5</th>\n",
       "      <td>121</td>\n",
       "    </tr>\n",
       "  </tbody>\n",
       "</table>\n",
       "</div>"
      ],
      "text/plain": [
       "   Nilai\n",
       "0     90\n",
       "1     89\n",
       "2     82\n",
       "3     87\n",
       "4     84\n",
       "5    121"
      ]
     },
     "execution_count": 101,
     "metadata": {},
     "output_type": "execute_result"
    }
   ],
   "source": [
    "data4={'Nilai':[90,89,82,87,84,121]}\n",
    "Data4=pd.DataFrame(data4)\n",
    "Data4"
   ]
  },
  {
   "cell_type": "code",
   "execution_count": 105,
   "id": "a8b5c214",
   "metadata": {},
   "outputs": [
    {
     "name": "stdout",
     "output_type": "stream",
     "text": [
      "Outliers:\n",
      "   Nilai\n",
      "5  121.0\n",
      "Data tanpa iutliers:\n",
      "   Nilai\n",
      "0   90.0\n",
      "1   89.0\n",
      "2   82.0\n",
      "3   87.0\n",
      "4   84.0\n"
     ]
    }
   ],
   "source": [
    "Z=np.abs((Data4-Data4.mean())/Data4.std()) #Mendeteksi data outliers\n",
    "out=Data4[Z>1].dropna()\n",
    "print(\"Outliers:\")\n",
    "print(out)\n",
    "\n",
    "#Data Tanpa Outliers\n",
    "Data4_B=Data4[Z<=1].dropna()\n",
    "print(\"Data tanpa iutliers:\")\n",
    "print(Data4_B)"
   ]
  },
  {
   "cell_type": "code",
   "execution_count": 107,
   "id": "f92df482",
   "metadata": {},
   "outputs": [
    {
     "data": {
      "text/html": [
       "<div>\n",
       "<style scoped>\n",
       "    .dataframe tbody tr th:only-of-type {\n",
       "        vertical-align: middle;\n",
       "    }\n",
       "\n",
       "    .dataframe tbody tr th {\n",
       "        vertical-align: top;\n",
       "    }\n",
       "\n",
       "    .dataframe thead th {\n",
       "        text-align: right;\n",
       "    }\n",
       "</style>\n",
       "<table border=\"1\" class=\"dataframe\">\n",
       "  <thead>\n",
       "    <tr style=\"text-align: right;\">\n",
       "      <th></th>\n",
       "      <th>Nama</th>\n",
       "      <th>Kelas</th>\n",
       "      <th>Nilai_PKN</th>\n",
       "      <th>Nilai_IPA</th>\n",
       "    </tr>\n",
       "  </thead>\n",
       "  <tbody>\n",
       "    <tr>\n",
       "      <th>0</th>\n",
       "      <td>Rafif</td>\n",
       "      <td>12</td>\n",
       "      <td>90</td>\n",
       "      <td>98</td>\n",
       "    </tr>\n",
       "    <tr>\n",
       "      <th>1</th>\n",
       "      <td>Dzaky</td>\n",
       "      <td>11</td>\n",
       "      <td>81</td>\n",
       "      <td>87</td>\n",
       "    </tr>\n",
       "    <tr>\n",
       "      <th>2</th>\n",
       "      <td>Zhafran</td>\n",
       "      <td>10</td>\n",
       "      <td>86</td>\n",
       "      <td>86</td>\n",
       "    </tr>\n",
       "    <tr>\n",
       "      <th>3</th>\n",
       "      <td>Robi</td>\n",
       "      <td>12</td>\n",
       "      <td>89</td>\n",
       "      <td>82</td>\n",
       "    </tr>\n",
       "    <tr>\n",
       "      <th>4</th>\n",
       "      <td>Cyntya</td>\n",
       "      <td>11</td>\n",
       "      <td>83</td>\n",
       "      <td>85</td>\n",
       "    </tr>\n",
       "  </tbody>\n",
       "</table>\n",
       "</div>"
      ],
      "text/plain": [
       "      Nama  Kelas  Nilai_PKN  Nilai_IPA\n",
       "0    Rafif     12         90         98\n",
       "1    Dzaky     11         81         87\n",
       "2  Zhafran     10         86         86\n",
       "3     Robi     12         89         82\n",
       "4   Cyntya     11         83         85"
      ]
     },
     "execution_count": 107,
     "metadata": {},
     "output_type": "execute_result"
    }
   ],
   "source": [
    "data5={'Nama':('Rafif','Dzaky','Zhafran','Robi','Cyntya'),\n",
    "      'Kelas':(12,11,10,12,11),\n",
    "      'Nilai_PKN':(90,81,86,89,83),\n",
    "      'Nilai_IPA':(98,87,86,82,85)}\n",
    "Data5=pd.DataFrame(data5)\n",
    "Data5"
   ]
  },
  {
   "cell_type": "code",
   "execution_count": 109,
   "id": "69e214a1",
   "metadata": {},
   "outputs": [
    {
     "name": "stdout",
     "output_type": "stream",
     "text": [
      "Nilai PKN Terbaik\n",
      "      Nama  Kelas  Nilai_PKN  Nilai_IPA\n",
      "0    Rafif     12         90         98\n",
      "2  Zhafran     10         86         86\n",
      "3     Robi     12         89         82\n",
      "\n",
      "Nilai IPA Terbaik\n",
      "      Nama  Kelas  Nilai_PKN  Nilai_IPA\n",
      "0    Rafif     12         90         98\n",
      "1    Dzaky     11         81         87\n",
      "2  Zhafran     10         86         86\n"
     ]
    }
   ],
   "source": [
    "print(\"Nilai PKN Terbaik\") #Filtering data berdasarkan kriteria tertentu\n",
    "filt1=Data5[Data5['Nilai_PKN']>85]\n",
    "print(filt1)\n",
    "print(\"\")\n",
    "print(\"Nilai IPA Terbaik\")\n",
    "filt2=Data5[Data5['Nilai_IPA']>85]\n",
    "print(filt2)"
   ]
  },
  {
   "cell_type": "code",
   "execution_count": 110,
   "id": "c398f2f3",
   "metadata": {},
   "outputs": [
    {
     "name": "stdout",
     "output_type": "stream",
     "text": [
      "      Nama  Kelas  Nilai_PKN  Nilai_IPA\n",
      "1    Dzaky     11         81         87\n",
      "4   Cyntya     11         83         85\n",
      "2  Zhafran     10         86         86\n",
      "3     Robi     12         89         82\n",
      "0    Rafif     12         90         98\n",
      "\n",
      "      Nama  Kelas  Nilai_PKN  Nilai_IPA\n",
      "3     Robi     12         89         82\n",
      "4   Cyntya     11         83         85\n",
      "2  Zhafran     10         86         86\n",
      "1    Dzaky     11         81         87\n",
      "0    Rafif     12         90         98\n"
     ]
    }
   ],
   "source": [
    "sort1=Data5.sort_values('Nilai_PKN') #Sort data berdasarkan kriteria tertentu\n",
    "print(sort1)\n",
    "print(\"\")\n",
    "sort2=Data5.sort_values('Nilai_IPA')\n",
    "print(sort2)"
   ]
  },
  {
   "cell_type": "code",
   "execution_count": 111,
   "id": "e114be2c",
   "metadata": {},
   "outputs": [
    {
     "data": {
      "text/html": [
       "<div>\n",
       "<style scoped>\n",
       "    .dataframe tbody tr th:only-of-type {\n",
       "        vertical-align: middle;\n",
       "    }\n",
       "\n",
       "    .dataframe tbody tr th {\n",
       "        vertical-align: top;\n",
       "    }\n",
       "\n",
       "    .dataframe thead th {\n",
       "        text-align: right;\n",
       "    }\n",
       "</style>\n",
       "<table border=\"1\" class=\"dataframe\">\n",
       "  <thead>\n",
       "    <tr style=\"text-align: right;\">\n",
       "      <th></th>\n",
       "      <th>Nama</th>\n",
       "      <th>Kelas</th>\n",
       "      <th>Nilai_PKN</th>\n",
       "      <th>Nilai_IPA</th>\n",
       "    </tr>\n",
       "  </thead>\n",
       "  <tbody>\n",
       "    <tr>\n",
       "      <th>0</th>\n",
       "      <td>Fathiyah</td>\n",
       "      <td>12</td>\n",
       "      <td>90.0</td>\n",
       "      <td>98.0</td>\n",
       "    </tr>\n",
       "    <tr>\n",
       "      <th>1</th>\n",
       "      <td>Lathifah</td>\n",
       "      <td>11</td>\n",
       "      <td>81.0</td>\n",
       "      <td>NaN</td>\n",
       "    </tr>\n",
       "    <tr>\n",
       "      <th>2</th>\n",
       "      <td>Lucy</td>\n",
       "      <td>10</td>\n",
       "      <td>86.0</td>\n",
       "      <td>86.0</td>\n",
       "    </tr>\n",
       "    <tr>\n",
       "      <th>3</th>\n",
       "      <td>Lyla</td>\n",
       "      <td>12</td>\n",
       "      <td>89.0</td>\n",
       "      <td>82.0</td>\n",
       "    </tr>\n",
       "    <tr>\n",
       "      <th>4</th>\n",
       "      <td>Rafif</td>\n",
       "      <td>11</td>\n",
       "      <td>NaN</td>\n",
       "      <td>85.0</td>\n",
       "    </tr>\n",
       "  </tbody>\n",
       "</table>\n",
       "</div>"
      ],
      "text/plain": [
       "       Nama  Kelas  Nilai_PKN  Nilai_IPA\n",
       "0  Fathiyah     12       90.0       98.0\n",
       "1  Lathifah     11       81.0        NaN\n",
       "2      Lucy     10       86.0       86.0\n",
       "3      Lyla     12       89.0       82.0\n",
       "4     Rafif     11        NaN       85.0"
      ]
     },
     "execution_count": 111,
     "metadata": {},
     "output_type": "execute_result"
    }
   ],
   "source": [
    "#Penanganan pada data yang hilang/missing value\n",
    "data6={'Nama':('Fathiyah','Lathifah','Lucy','Lyla','Rafif'),\n",
    "      'Kelas':(12,11,10,12,11),\n",
    "      'Nilai_PKN':(90,81,86,89,None),\n",
    "      'Nilai_IPA':(98,None,86,82,85)}\n",
    "Data6=pd.DataFrame(data6)\n",
    "Data6"
   ]
  },
  {
   "cell_type": "code",
   "execution_count": 115,
   "id": "c0d9644e",
   "metadata": {},
   "outputs": [
    {
     "name": "stdout",
     "output_type": "stream",
     "text": [
      "Data yang sudah diisi nilai PKN yang kosong\n",
      "0    90.0\n",
      "1    81.0\n",
      "2    86.0\n",
      "3    89.0\n",
      "4    86.5\n",
      "Name: Nilai_PKN, dtype: float64\n"
     ]
    }
   ],
   "source": [
    "mean_PKN=Data6['Nilai_PKN'].mean()\n",
    "mean_IPA=Data6['Nilai_IPA'].mean()\n",
    "Data6_1=Data6['Nilai_PKN'].fillna(mean_PKN)\n",
    "print(\"Data yang sudah diisi nilai PKN yang kosong\")\n",
    "print(Data6_1)"
   ]
  },
  {
   "cell_type": "code",
   "execution_count": 117,
   "id": "e2042bf2",
   "metadata": {},
   "outputs": [
    {
     "name": "stdout",
     "output_type": "stream",
     "text": [
      "Data yang sudah diisi nilai IPA yang kosong\n",
      "0    98.00\n",
      "1    87.75\n",
      "2    86.00\n",
      "3    82.00\n",
      "4    85.00\n",
      "Name: Nilai_IPA, dtype: float64\n"
     ]
    }
   ],
   "source": [
    "Data6_2=Data6['Nilai_IPA'].fillna(mean_IPA)\n",
    "print(\"Data yang sudah diisi nilai IPA yang kosong\")\n",
    "print(Data6_2)"
   ]
  },
  {
   "cell_type": "code",
   "execution_count": 119,
   "id": "81f25b5a",
   "metadata": {},
   "outputs": [
    {
     "name": "stdout",
     "output_type": "stream",
     "text": [
      "Nama         Zhafran\n",
      "Kelas             10\n",
      "Nilai_PKN         86\n",
      "Nilai_IPA         86\n",
      "Name: 2, dtype: object\n"
     ]
    }
   ],
   "source": [
    "print(Data5.loc[2]) #Mencari lokasi berdasarkan indeks data"
   ]
  },
  {
   "cell_type": "code",
   "execution_count": 121,
   "id": "d2d9488e",
   "metadata": {},
   "outputs": [
    {
     "name": "stdout",
     "output_type": "stream",
     "text": [
      "     Nama  Kelas  Nilai_PKN  Nilai_IPA\n",
      "1   Dzaky     11         81         87\n",
      "4  Cyntya     11         83         85\n",
      "   Nama  Kelas  Nilai_PKN  Nilai_IPA\n",
      "3  Robi     12         89         82\n"
     ]
    }
   ],
   "source": [
    "#Conditional Indexing\n",
    "filt_con1=Data5[Data5['Nilai_PKN']<85]\n",
    "filt_con2=Data5[Data5['Nilai_IPA']<85]\n",
    "print(filt_con1)\n",
    "print(filt_con2)"
   ]
  },
  {
   "cell_type": "code",
   "execution_count": null,
   "id": "e9264751",
   "metadata": {},
   "outputs": [],
   "source": []
  }
 ],
 "metadata": {
  "kernelspec": {
   "display_name": "Python 3 (ipykernel)",
   "language": "python",
   "name": "python3"
  },
  "language_info": {
   "codemirror_mode": {
    "name": "ipython",
    "version": 3
   },
   "file_extension": ".py",
   "mimetype": "text/x-python",
   "name": "python",
   "nbconvert_exporter": "python",
   "pygments_lexer": "ipython3",
   "version": "3.11.5"
  }
 },
 "nbformat": 4,
 "nbformat_minor": 5
}
